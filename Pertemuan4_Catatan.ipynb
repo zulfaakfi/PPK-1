{
 "cells": [
  {
   "cell_type": "code",
   "execution_count": 1,
   "metadata": {},
   "outputs": [
    {
     "data": {
      "text/plain": [
       "50"
      ]
     },
     "execution_count": 1,
     "metadata": {},
     "output_type": "execute_result"
    }
   ],
   "source": [
    "def kali(a,b):\n",
    "    c=a*b\n",
    "    return c\n",
    "def tulis(s):\n",
    "    print(s)\n",
    "z=kali(10,5)\n",
    "z\n",
    "    "
   ]
  },
  {
   "cell_type": "code",
   "execution_count": 2,
   "metadata": {},
   "outputs": [
    {
     "name": "stdout",
     "output_type": "stream",
     "text": [
      "Pemrograman Komputer I dengan Python\n"
     ]
    }
   ],
   "source": [
    "tulis('Pemrograman Komputer I dengan Python')"
   ]
  },
  {
   "cell_type": "code",
   "execution_count": 3,
   "metadata": {},
   "outputs": [
    {
     "name": "stdout",
     "output_type": "stream",
     "text": [
      "50\n"
     ]
    }
   ],
   "source": [
    "tulis(z)"
   ]
  },
  {
   "cell_type": "code",
   "execution_count": 4,
   "metadata": {},
   "outputs": [
    {
     "name": "stdout",
     "output_type": "stream",
     "text": [
      "Masukkan nilai Anda: 100\n",
      "Anda lulus ujian! SELAMAT!\n"
     ]
    }
   ],
   "source": [
    "nilai=input(\"Masukkan nilai Anda: \")\n",
    "if int(nilai) >=70:\n",
    "    print(\"Anda lulus ujian! SELAMAT!\" )"
   ]
  },
  {
   "cell_type": "code",
   "execution_count": 5,
   "metadata": {},
   "outputs": [
    {
     "name": "stdout",
     "output_type": "stream",
     "text": [
      "Anda lulus Ujian! SELAMAT!\n"
     ]
    }
   ],
   "source": [
    "if int(nilai) >=70:\n",
    "    print(\"Anda lulus Ujian! SELAMAT!\")\n",
    "else:\n",
    "    print(\"Anda belum lulus ujian!\")"
   ]
  },
  {
   "cell_type": "code",
   "execution_count": 6,
   "metadata": {},
   "outputs": [
    {
     "name": "stdout",
     "output_type": "stream",
     "text": [
      "Anda lulus ujian! SELAMAT!\n"
     ]
    }
   ],
   "source": [
    "if int(nilai) < 0 or int(nilai) > 100:\n",
    "    print(\"Nilai Anda TIDAK valid\")\n",
    "elif int(nilai) >=70:\n",
    "    print(\"Anda lulus ujian! SELAMAT!\")\n",
    "else:\n",
    "    print(\"Anda belum lulus ujian!\")"
   ]
  },
  {
   "cell_type": "code",
   "execution_count": null,
   "metadata": {},
   "outputs": [],
   "source": []
  }
 ],
 "metadata": {
  "kernelspec": {
   "display_name": "Python 3 (ipykernel)",
   "language": "python",
   "name": "python3"
  },
  "language_info": {
   "codemirror_mode": {
    "name": "ipython",
    "version": 3
   },
   "file_extension": ".py",
   "mimetype": "text/x-python",
   "name": "python",
   "nbconvert_exporter": "python",
   "pygments_lexer": "ipython3",
   "version": "3.9.7"
  }
 },
 "nbformat": 4,
 "nbformat_minor": 2
}
