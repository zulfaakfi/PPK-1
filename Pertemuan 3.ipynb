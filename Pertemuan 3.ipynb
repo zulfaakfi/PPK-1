{
 "cells": [
  {
   "cell_type": "code",
   "execution_count": null,
   "id": "18e1561c",
   "metadata": {},
   "outputs": [],
   "source": [
    "3.1Tipe List\n",
    "List merupakan objek yang bersifat mutable atau nilainya dapat diubah. Objek List dibuat menggunakan tanda [ ].\n",
    "Setiap objek atau elemen yang terdapat di dalam list harus dibatasi menggunakan tanda koma, tapi tidak harus sejenis. \n",
    "Artinya, bisa saja List berisi beberapa objek yang berasal dari tipe berlainan, misalnya Str, Int, dan sebagainya.\n"
   ]
  },
  {
   "cell_type": "code",
   "execution_count": null,
   "id": "c026b5b8",
   "metadata": {},
   "outputs": [],
   "source": [
    "3.2 Tipe Dictonary\n",
    "Dictionary (kamus) atau sering juga disebut tipe mapping merupakan objek yang berisi daftar pasangan kunci dan nilai \n",
    "(key-value pair).Objek yang dijadikan sebagai kunci dapat berasal dari tipe apa saja, tapi pada umumnya berupa string, \n",
    "atau paling tidak berupa bilangan. Berbeda dengan List, dictionary dibuat menggunakan { }. \n",
    "Setiap pasangan kunci dan nilai harus dipisahkan menggunakan tanda ( : )"
   ]
  },
  {
   "cell_type": "markdown",
   "id": "ec3d3d38",
   "metadata": {},
   "source": [
    "## Algorithm 3.1"
   ]
  },
  {
   "cell_type": "code",
   "execution_count": 3,
   "id": "6f4ddeac",
   "metadata": {},
   "outputs": [
    {
     "data": {
      "text/plain": [
       "[10, 8, 12, 6, 15]"
      ]
     },
     "execution_count": 3,
     "metadata": {},
     "output_type": "execute_result"
    }
   ],
   "source": [
    "list1=[100,200,300,400]\n",
    "list2=[1,'Pemrograman Komputer',12000.00]\n",
    "list = [10,8,12,6,15]\n",
    "list\n"
   ]
  },
  {
   "cell_type": "code",
   "execution_count": 4,
   "id": "49c049c8",
   "metadata": {},
   "outputs": [
    {
     "data": {
      "text/plain": [
       "5"
      ]
     },
     "execution_count": 4,
     "metadata": {},
     "output_type": "execute_result"
    }
   ],
   "source": [
    "len(list)#Menghitung banyaknya elemen didalam list"
   ]
  },
  {
   "cell_type": "code",
   "execution_count": 5,
   "id": "0673b6d2",
   "metadata": {},
   "outputs": [
    {
     "data": {
      "text/plain": [
       "[10, 8, 12, 6, 15]"
      ]
     },
     "execution_count": 5,
     "metadata": {},
     "output_type": "execute_result"
    }
   ],
   "source": [
    "li=[10,8,12,6,15]\n",
    "li"
   ]
  },
  {
   "cell_type": "code",
   "execution_count": 6,
   "id": "d8497426",
   "metadata": {},
   "outputs": [
    {
     "data": {
      "text/plain": [
       "(10, 8, 12, 6, 15)"
      ]
     },
     "execution_count": 6,
     "metadata": {},
     "output_type": "execute_result"
    }
   ],
   "source": [
    "li[0],li[1],li[2],li[3],li[4]"
   ]
  },
  {
   "cell_type": "code",
   "execution_count": 7,
   "id": "79bf7667",
   "metadata": {},
   "outputs": [
    {
     "data": {
      "text/plain": [
       "(10, 8, 12, 6, 15)"
      ]
     },
     "execution_count": 7,
     "metadata": {},
     "output_type": "execute_result"
    }
   ],
   "source": [
    "li[-5],li[-4],li[-3],li[-2],li[-1]"
   ]
  },
  {
   "cell_type": "code",
   "execution_count": 8,
   "id": "6c8bf0db",
   "metadata": {},
   "outputs": [
    {
     "data": {
      "text/plain": [
       "[10, 8, 12, 6, 15, 20, 25, 100, 200, 300]"
      ]
     },
     "execution_count": 8,
     "metadata": {},
     "output_type": "execute_result"
    }
   ],
   "source": [
    "li.append(20)#menambhakan elemen dalam list\n",
    "li.append(25)\n",
    "li=[10, 8, 12, 6, 15, 20, 25]\n",
    "li.extend([100,200,300])#menambahkan list dalam sebuah list\n",
    "li"
   ]
  },
  {
   "cell_type": "code",
   "execution_count": 9,
   "id": "30682f0d",
   "metadata": {},
   "outputs": [
    {
     "data": {
      "text/plain": [
       "[99, 77, 12, 6, 15, 20, 25, 100, 200, 300]"
      ]
     },
     "execution_count": 9,
     "metadata": {},
     "output_type": "execute_result"
    }
   ],
   "source": [
    "li[0]=99\n",
    "li[1]=77\n",
    "li"
   ]
  },
  {
   "cell_type": "code",
   "execution_count": 10,
   "id": "63898fe5",
   "metadata": {},
   "outputs": [
    {
     "data": {
      "text/plain": [
       "[77, 12, 6, 20, 25, 100, 200]"
      ]
     },
     "execution_count": 10,
     "metadata": {},
     "output_type": "execute_result"
    }
   ],
   "source": [
    "li.remove(99) #menghapus elemen di dalam list\n",
    "li.remove(300)\n",
    "li.remove(15)\n",
    "li"
   ]
  },
  {
   "cell_type": "code",
   "execution_count": 11,
   "id": "5acb7f20",
   "metadata": {},
   "outputs": [
    {
     "data": {
      "text/plain": [
       "[]"
      ]
     },
     "execution_count": 11,
     "metadata": {},
     "output_type": "execute_result"
    }
   ],
   "source": [
    "li.clear() #Menghapus semua elemen didalam list\n",
    "li"
   ]
  },
  {
   "cell_type": "markdown",
   "id": "6e1f7076",
   "metadata": {},
   "source": [
    "## Algorithm 3.2"
   ]
  },
  {
   "cell_type": "code",
   "execution_count": 13,
   "id": "d1b305d0",
   "metadata": {},
   "outputs": [
    {
     "data": {
      "text/plain": [
       "{'A': 4, 'B': 3, 'C': 2, 'D': 1, 'E': 0}"
      ]
     },
     "execution_count": 13,
     "metadata": {},
     "output_type": "execute_result"
    }
   ],
   "source": [
    "na={'A':4, 'B':3, 'C':2, 'D':1, 'E':0}\n",
    "na"
   ]
  },
  {
   "cell_type": "code",
   "execution_count": 14,
   "id": "748bcff9",
   "metadata": {},
   "outputs": [
    {
     "data": {
      "text/plain": [
       "dict_keys(['A', 'B', 'C', 'D', 'E'])"
      ]
     },
     "execution_count": 14,
     "metadata": {},
     "output_type": "execute_result"
    }
   ],
   "source": [
    "na.keys() #Menambahkan Kata Kunci(key) dalam Dictionary"
   ]
  },
  {
   "cell_type": "code",
   "execution_count": 15,
   "id": "4902644b",
   "metadata": {},
   "outputs": [
    {
     "data": {
      "text/plain": [
       "dict_values([4, 3, 2, 1, 0])"
      ]
     },
     "execution_count": 15,
     "metadata": {},
     "output_type": "execute_result"
    }
   ],
   "source": [
    "na.values() #Menampilkan Kata Value dalam Dictonary"
   ]
  },
  {
   "cell_type": "code",
   "execution_count": 16,
   "id": "7d3df9d4",
   "metadata": {},
   "outputs": [
    {
     "data": {
      "text/plain": [
       "4"
      ]
     },
     "execution_count": 16,
     "metadata": {},
     "output_type": "execute_result"
    }
   ],
   "source": [
    "na['A']"
   ]
  },
  {
   "cell_type": "code",
   "execution_count": 17,
   "id": "2ecaad31",
   "metadata": {},
   "outputs": [
    {
     "data": {
      "text/plain": [
       "3"
      ]
     },
     "execution_count": 17,
     "metadata": {},
     "output_type": "execute_result"
    }
   ],
   "source": [
    "na['B']"
   ]
  },
  {
   "cell_type": "code",
   "execution_count": 18,
   "id": "2f9d33ba",
   "metadata": {},
   "outputs": [
    {
     "data": {
      "text/plain": [
       "2"
      ]
     },
     "execution_count": 18,
     "metadata": {},
     "output_type": "execute_result"
    }
   ],
   "source": [
    "na['C']"
   ]
  },
  {
   "cell_type": "code",
   "execution_count": 19,
   "id": "26fd7dbf",
   "metadata": {},
   "outputs": [
    {
     "data": {
      "text/plain": [
       "'kucing'"
      ]
     },
     "execution_count": 19,
     "metadata": {},
     "output_type": "execute_result"
    }
   ],
   "source": [
    "kamus={'mouse':'tikus','cat':'kucing'}\n",
    "kamus['cat']"
   ]
  },
  {
   "cell_type": "code",
   "execution_count": 20,
   "id": "49f510e4",
   "metadata": {},
   "outputs": [
    {
     "data": {
      "text/plain": [
       "dict_keys(['mouse', 'cat'])"
      ]
     },
     "execution_count": 20,
     "metadata": {},
     "output_type": "execute_result"
    }
   ],
   "source": [
    "kamus.keys()"
   ]
  },
  {
   "cell_type": "code",
   "execution_count": 21,
   "id": "ffbb9672",
   "metadata": {},
   "outputs": [
    {
     "data": {
      "text/plain": [
       "dict_values(['tikus', 'kucing'])"
      ]
     },
     "execution_count": 21,
     "metadata": {},
     "output_type": "execute_result"
    }
   ],
   "source": [
    "kamus.values()"
   ]
  },
  {
   "cell_type": "code",
   "execution_count": null,
   "id": "74f110ff",
   "metadata": {},
   "outputs": [],
   "source": [
    "3.3 Tipe Tuple\n",
    "Tuple adalah tipe koleksi yang mirip dengan list.Pebedaannya, tuple bersifat immutable atau elemen-elemennya tidak dapat diubah,\n",
    "baik nilainya maupun jumlah elemennya.Ini berarti bahwa kita tidak dapat menambah, mengubah, atau menghapus elemen di \n",
    "dalam tuple."
   ]
  },
  {
   "cell_type": "markdown",
   "id": "934710d4",
   "metadata": {},
   "source": [
    "## Algorithm 3.3"
   ]
  },
  {
   "cell_type": "code",
   "execution_count": 24,
   "id": "7a9b6201",
   "metadata": {},
   "outputs": [
    {
     "data": {
      "text/plain": [
       "10"
      ]
     },
     "execution_count": 24,
     "metadata": {},
     "output_type": "execute_result"
    }
   ],
   "source": [
    "t=(10,20,30)\n",
    "t[0]"
   ]
  },
  {
   "cell_type": "code",
   "execution_count": 25,
   "id": "4dd9f946",
   "metadata": {},
   "outputs": [
    {
     "data": {
      "text/plain": [
       "20"
      ]
     },
     "execution_count": 25,
     "metadata": {},
     "output_type": "execute_result"
    }
   ],
   "source": [
    "t[1]"
   ]
  },
  {
   "cell_type": "code",
   "execution_count": 26,
   "id": "d85717db",
   "metadata": {},
   "outputs": [
    {
     "data": {
      "text/plain": [
       "30"
      ]
     },
     "execution_count": 26,
     "metadata": {},
     "output_type": "execute_result"
    }
   ],
   "source": [
    "t[2]"
   ]
  },
  {
   "cell_type": "code",
   "execution_count": 27,
   "id": "cb5c1ac4",
   "metadata": {},
   "outputs": [
    {
     "data": {
      "text/plain": [
       "(10, 20, 30)"
      ]
     },
     "execution_count": 27,
     "metadata": {},
     "output_type": "execute_result"
    }
   ],
   "source": [
    "t[-3],t[-2],t[-1]"
   ]
  },
  {
   "cell_type": "code",
   "execution_count": 28,
   "id": "1856a990",
   "metadata": {},
   "outputs": [
    {
     "data": {
      "text/plain": [
       "3"
      ]
     },
     "execution_count": 28,
     "metadata": {},
     "output_type": "execute_result"
    }
   ],
   "source": [
    "len(t) #Menghitung banyaknya elemen didalam Tuple"
   ]
  },
  {
   "cell_type": "code",
   "execution_count": null,
   "id": "e956d090",
   "metadata": {},
   "outputs": [],
   "source": [
    "3.4 Tipe Set \n",
    "set (himpunan) adalah tipe koleksi yang setiap elemennya bersifat unik. Jika pada saat pembuatan set terdapat \n",
    "beberapa elemen yang nilainya sama, maka elemen-elemen tersebut hanya akan diambil satu, sisanya secara otomatis akan dibuang."
   ]
  },
  {
   "cell_type": "markdown",
   "id": "69644205",
   "metadata": {},
   "source": [
    "## Algorithm 3.4"
   ]
  },
  {
   "cell_type": "code",
   "execution_count": 30,
   "id": "809f5204",
   "metadata": {},
   "outputs": [
    {
     "data": {
      "text/plain": [
       "{10, 20, 30}"
      ]
     },
     "execution_count": 30,
     "metadata": {},
     "output_type": "execute_result"
    }
   ],
   "source": [
    "s=set([10,10,20,30,30,30])\n",
    "s"
   ]
  },
  {
   "cell_type": "code",
   "execution_count": 31,
   "id": "d7233ecb",
   "metadata": {},
   "outputs": [
    {
     "data": {
      "text/plain": [
       "3"
      ]
     },
     "execution_count": 31,
     "metadata": {},
     "output_type": "execute_result"
    }
   ],
   "source": [
    "len(s)"
   ]
  },
  {
   "cell_type": "code",
   "execution_count": 32,
   "id": "083d7c71",
   "metadata": {},
   "outputs": [
    {
     "data": {
      "text/plain": [
       "{10, 20, 30, 60}"
      ]
     },
     "execution_count": 32,
     "metadata": {},
     "output_type": "execute_result"
    }
   ],
   "source": [
    "s.add(60) #Menambahkan anggota himpunan(set)\n",
    "s"
   ]
  },
  {
   "cell_type": "code",
   "execution_count": 33,
   "id": "e1d20ca8",
   "metadata": {},
   "outputs": [
    {
     "data": {
      "text/plain": [
       "4"
      ]
     },
     "execution_count": 33,
     "metadata": {},
     "output_type": "execute_result"
    }
   ],
   "source": [
    "len(s)"
   ]
  },
  {
   "cell_type": "code",
   "execution_count": null,
   "id": "69abbbfa",
   "metadata": {},
   "outputs": [],
   "source": [
    "Zulfa Akfi Fikrina\n",
    "200601110118"
   ]
  },
  {
   "cell_type": "code",
   "execution_count": null,
   "id": "125d1b41",
   "metadata": {},
   "outputs": [],
   "source": []
  }
 ],
 "metadata": {
  "kernelspec": {
   "display_name": "Python 3 (ipykernel)",
   "language": "python",
   "name": "python3"
  },
  "language_info": {
   "codemirror_mode": {
    "name": "ipython",
    "version": 3
   },
   "file_extension": ".py",
   "mimetype": "text/x-python",
   "name": "python",
   "nbconvert_exporter": "python",
   "pygments_lexer": "ipython3",
   "version": "3.9.7"
  }
 },
 "nbformat": 4,
 "nbformat_minor": 5
}
