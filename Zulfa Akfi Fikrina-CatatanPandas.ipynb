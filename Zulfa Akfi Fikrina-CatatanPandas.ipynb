{
 "cells": [
  {
   "cell_type": "markdown",
   "id": "a1acc760",
   "metadata": {},
   "source": [
    "## Nama : Zulfa Akfi Fikrina\n",
    "## NIM  : 200601110118\n"
   ]
  },
  {
   "cell_type": "markdown",
   "id": "4d71c480",
   "metadata": {},
   "source": [
    "## Pengertian dan Kegunaan PANDAS"
   ]
  },
  {
   "cell_type": "code",
   "execution_count": null,
   "id": "3dd8f9fb",
   "metadata": {},
   "outputs": [],
   "source": [
    "PANDAS adalah sebuah librari dan open source yang menyediakan struktur serta analisis data yang dapat digunakan untuk \n",
    "mengkonversi data mentah sehingga memudahkan untuk menganalisis data.struktur data dasar pandas dinamakan DataFrame yaitu \n",
    "koleksi kolom berurutan dengan bentuk sebuah tabel yang memudahkan untuk membaca sebuah file dan menjadikannya table.\n",
    "beberapa kegunaan pandas yaitu kita dapat membaca dan menuliskan data dalam bentuk csv file yang lainnya dan database, \n",
    "kita juga dapat membuat file excel, csxc dan lain sebagainya, penghitungan statistik, menghilangkan beberapa value yang \n",
    "kurang memenuhi, vissualisasi data, mengolah data.   "
   ]
  },
  {
   "cell_type": "markdown",
   "id": "28d775ec",
   "metadata": {},
   "source": [
    "## Komponen Utama PANDAS"
   ]
  },
  {
   "cell_type": "code",
   "execution_count": null,
   "id": "c0ff2e44",
   "metadata": {},
   "outputs": [],
   "source": [
    "1. series dan DataFrame.\n",
    "pembuatan DataFrame bisa dilakukan di Python langsung atau langsung upload file txt/excel.\n"
   ]
  },
  {
   "cell_type": "code",
   "execution_count": 17,
   "id": "8aa632d0",
   "metadata": {},
   "outputs": [],
   "source": [
    "import pandas as pd "
   ]
  },
  {
   "cell_type": "code",
   "execution_count": 18,
   "id": "f63f6ea7",
   "metadata": {},
   "outputs": [
    {
     "name": "stdout",
     "output_type": "stream",
     "text": [
      "   apples  oranges\n",
      "0       3        0\n",
      "1       2        3\n",
      "2       0        7\n",
      "3       1        2\n"
     ]
    }
   ],
   "source": [
    "data = {\n",
    "    'apples': [3, 2, 0, 1],\n",
    "    'oranges': [0, 3, 7, 2]\n",
    "}\n",
    "\n",
    "purchases = pd.DataFrame(data)\n",
    "print(purchases)"
   ]
  },
  {
   "cell_type": "code",
   "execution_count": 20,
   "id": "43d671d8",
   "metadata": {
    "scrolled": true
   },
   "outputs": [
    {
     "name": "stdout",
     "output_type": "stream",
     "text": [
      "apples     2\n",
      "oranges    3\n",
      "Name: Robert, dtype: int64\n"
     ]
    }
   ],
   "source": [
    "purchases = pd.DataFrame(data,\n",
    "index=['June', 'Robert', 'Lily', 'David'])\n",
    "print(purchases.loc['Robert'])"
   ]
  },
  {
   "cell_type": "markdown",
   "id": "f6c61137",
   "metadata": {},
   "source": [
    "## Penambahan Kolom Baru"
   ]
  },
  {
   "cell_type": "code",
   "execution_count": 22,
   "id": "8c1d22a5",
   "metadata": {},
   "outputs": [
    {
     "name": "stdout",
     "output_type": "stream",
     "text": [
      "        celcius\n",
      "Bantul     17.0\n",
      "Sleman     25.0\n"
     ]
    }
   ],
   "source": [
    "df = pd.DataFrame({'celcius': [17.0, 25.0]},\n",
    "                  index=['Bantul', 'Sleman'])\n",
    "print(df)"
   ]
  },
  {
   "cell_type": "code",
   "execution_count": 24,
   "id": "4a6f8603",
   "metadata": {},
   "outputs": [
    {
     "name": "stdout",
     "output_type": "stream",
     "text": [
      "        celcius   fah\n",
      "Bantul     17.0  62.6\n",
      "Sleman     25.0  77.0\n"
     ]
    }
   ],
   "source": [
    "df=df.assign(fah=df['celcius']*9/5+32)\n",
    "print(df)"
   ]
  },
  {
   "cell_type": "code",
   "execution_count": 26,
   "id": "1b7b667e",
   "metadata": {},
   "outputs": [
    {
     "name": "stdout",
     "output_type": "stream",
     "text": [
      "        celcius   fah   rea\n",
      "Bantul     17.0  62.6  13.6\n",
      "Sleman     25.0  77.0  20.0\n"
     ]
    }
   ],
   "source": [
    "df=df.assign(rea=lambda x:x.celcius*4/5)\n",
    "print(df)"
   ]
  },
  {
   "cell_type": "markdown",
   "id": "a2437729",
   "metadata": {},
   "source": [
    "## Apply Function"
   ]
  },
  {
   "cell_type": "code",
   "execution_count": 27,
   "id": "4bc3bbfa",
   "metadata": {},
   "outputs": [
    {
     "name": "stdout",
     "output_type": "stream",
     "text": [
      "   nama  ipk\n",
      "0  andi  2.3\n",
      "1  rudi  3.1\n",
      "2  siti  1.8\n",
      "3   ani  2.9\n"
     ]
    }
   ],
   "source": [
    "df=pd.DataFrame({'nama':['andi', 'rudi', 'siti', 'ani'],\n",
    "                 'ipk':[2.3,3.1,1.8,2.9]})\n",
    "print(df)"
   ]
  },
  {
   "cell_type": "code",
   "execution_count": 29,
   "id": "a60a44e5",
   "metadata": {},
   "outputs": [
    {
     "name": "stdout",
     "output_type": "stream",
     "text": [
      "   nama  ipk  status\n",
      "0  andi  2.3  Kurang\n",
      "1  rudi  3.1   Bagus\n",
      "2  siti  1.8  Kurang\n",
      "3   ani  2.9   Bagus\n"
     ]
    }
   ],
   "source": [
    "def group_nilai(a):\n",
    "    if a > 2.75:\n",
    "        hasil=\"Bagus\"\n",
    "    elif a > 2.5:\n",
    "        hasil=\"Cukup\"\n",
    "    else:\n",
    "        hasil=\"Kurang\"\n",
    "    return hasil\n",
    "df=df.assign(status=df['ipk'].apply(group_nilai))\n",
    "print(df)"
   ]
  },
  {
   "cell_type": "markdown",
   "id": "6e1f6059",
   "metadata": {},
   "source": [
    "## import .txt"
   ]
  },
  {
   "cell_type": "code",
   "execution_count": null,
   "id": "84a61bd1",
   "metadata": {},
   "outputs": [],
   "source": []
  }
 ],
 "metadata": {
  "kernelspec": {
   "display_name": "Python 3 (ipykernel)",
   "language": "python",
   "name": "python3"
  },
  "language_info": {
   "codemirror_mode": {
    "name": "ipython",
    "version": 3
   },
   "file_extension": ".py",
   "mimetype": "text/x-python",
   "name": "python",
   "nbconvert_exporter": "python",
   "pygments_lexer": "ipython3",
   "version": "3.9.7"
  }
 },
 "nbformat": 4,
 "nbformat_minor": 5
}
