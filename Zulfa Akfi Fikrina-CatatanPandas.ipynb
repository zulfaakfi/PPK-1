{
 "cells": [
  {
   "cell_type": "markdown",
   "id": "54e44cd8",
   "metadata": {},
   "source": [
    "## Nama : Zulfa Akfi Fikrina\n",
    "## NIM  : 200601110118\n"
   ]
  },
  {
   "cell_type": "markdown",
   "id": "982388dd",
   "metadata": {},
   "source": [
    "## Pengertian dan Kegunaan PANDAS"
   ]
  },
  {
   "cell_type": "code",
   "execution_count": null,
   "id": "b4df0bcc",
   "metadata": {},
   "outputs": [],
   "source": [
    "PANDAS adalah sebuah librari dan open source yang menyediakan struktur serta analisis data yang dapat digunakan untuk \n",
    "mengkonversi data mentah sehingga memudahkan untuk menganalisis data.struktur data dasar pandas dinamakan DataFrame yaitu \n",
    "koleksi kolom berurutan dengan bentuk sebuah tabel yang memudahkan untuk membaca sebuah file dan menjadikannya table.\n",
    "beberapa kegunaan pandas yaitu kita dapat membaca dan menuliskan data dalam bentuk csv file yang lainnya dan database, \n",
    "kita juga dapat membuat file excel, csxc dan lain sebagainya, penghitungan statistik, menghilangkan beberapa value yang \n",
    "kurang memenuhi, vissualisasi data, mengolah data.   "
   ]
  },
  {
   "cell_type": "markdown",
   "id": "da9115f1",
   "metadata": {},
   "source": [
    "## Komponen Utama PANDAS"
   ]
  },
  {
   "cell_type": "code",
   "execution_count": null,
   "id": "ae27b599",
   "metadata": {},
   "outputs": [],
   "source": [
    "1. series dan DataFrame.\n",
    "pembuatan DataFrame bisa dilakukan di Python langsung atau langsung upload file txt/excel.\n"
   ]
  },
  {
   "cell_type": "code",
   "execution_count": 17,
   "id": "d6fb7829",
   "metadata": {},
   "outputs": [],
   "source": [
    "import pandas as pd "
   ]
  },
  {
   "cell_type": "code",
   "execution_count": 18,
   "id": "f44ec1e0",
   "metadata": {},
   "outputs": [
    {
     "name": "stdout",
     "output_type": "stream",
     "text": [
      "   apples  oranges\n",
      "0       3        0\n",
      "1       2        3\n",
      "2       0        7\n",
      "3       1        2\n"
     ]
    }
   ],
   "source": [
    "data = {\n",
    "    'apples': [3, 2, 0, 1],\n",
    "    'oranges': [0, 3, 7, 2]\n",
    "}\n",
    "\n",
    "purchases = pd.DataFrame(data)\n",
    "print(purchases)"
   ]
  },
  {
   "cell_type": "code",
   "execution_count": 20,
   "id": "ff34fedd",
   "metadata": {
    "scrolled": true
   },
   "outputs": [
    {
     "name": "stdout",
     "output_type": "stream",
     "text": [
      "apples     2\n",
      "oranges    3\n",
      "Name: Robert, dtype: int64\n"
     ]
    }
   ],
   "source": [
    "purchases = pd.DataFrame(data,\n",
    "index=['June', 'Robert', 'Lily', 'David'])\n",
    "print(purchases.loc['Robert'])"
   ]
  },
  {
   "cell_type": "markdown",
   "id": "fa118fbb",
   "metadata": {},
   "source": [
    "## Penambahan Kolom Baru"
   ]
  },
  {
   "cell_type": "code",
   "execution_count": 22,
   "id": "06d7d51f",
   "metadata": {},
   "outputs": [
    {
     "name": "stdout",
     "output_type": "stream",
     "text": [
      "        celcius\n",
      "Bantul     17.0\n",
      "Sleman     25.0\n"
     ]
    }
   ],
   "source": [
    "df = pd.DataFrame({'celcius': [17.0, 25.0]},\n",
    "                  index=['Bantul', 'Sleman'])\n",
    "print(df)"
   ]
  },
  {
   "cell_type": "code",
   "execution_count": 24,
   "id": "574f872b",
   "metadata": {},
   "outputs": [
    {
     "name": "stdout",
     "output_type": "stream",
     "text": [
      "        celcius   fah\n",
      "Bantul     17.0  62.6\n",
      "Sleman     25.0  77.0\n"
     ]
    }
   ],
   "source": [
    "df=df.assign(fah=df['celcius']*9/5+32)\n",
    "print(df)"
   ]
  },
  {
   "cell_type": "code",
   "execution_count": 26,
   "id": "ed028a2c",
   "metadata": {},
   "outputs": [
    {
     "name": "stdout",
     "output_type": "stream",
     "text": [
      "        celcius   fah   rea\n",
      "Bantul     17.0  62.6  13.6\n",
      "Sleman     25.0  77.0  20.0\n"
     ]
    }
   ],
   "source": [
    "df=df.assign(rea=lambda x:x.celcius*4/5)\n",
    "print(df)"
   ]
  },
  {
   "cell_type": "markdown",
   "id": "6a5e4396",
   "metadata": {},
   "source": [
    "## Apply Function"
   ]
  },
  {
   "cell_type": "code",
   "execution_count": 27,
   "id": "545937f2",
   "metadata": {},
   "outputs": [
    {
     "name": "stdout",
     "output_type": "stream",
     "text": [
      "   nama  ipk\n",
      "0  andi  2.3\n",
      "1  rudi  3.1\n",
      "2  siti  1.8\n",
      "3   ani  2.9\n"
     ]
    }
   ],
   "source": [
    "df=pd.DataFrame({'nama':['andi', 'rudi', 'siti', 'ani'],\n",
    "                 'ipk':[2.3,3.1,1.8,2.9]})\n",
    "print(df)"
   ]
  },
  {
   "cell_type": "code",
   "execution_count": 29,
   "id": "f37f1fa2",
   "metadata": {},
   "outputs": [
    {
     "name": "stdout",
     "output_type": "stream",
     "text": [
      "   nama  ipk  status\n",
      "0  andi  2.3  Kurang\n",
      "1  rudi  3.1   Bagus\n",
      "2  siti  1.8  Kurang\n",
      "3   ani  2.9   Bagus\n"
     ]
    }
   ],
   "source": [
    "def group_nilai(a):\n",
    "    if a > 2.75:\n",
    "        hasil=\"Bagus\"\n",
    "    elif a > 2.5:\n",
    "        hasil=\"Cukup\"\n",
    "    else:\n",
    "        hasil=\"Kurang\"\n",
    "    return hasil\n",
    "df=df.assign(status=df['ipk'].apply(group_nilai))\n",
    "print(df)"
   ]
  },
  {
   "cell_type": "markdown",
   "id": "6d587847",
   "metadata": {},
   "source": [
    "## import .txt"
   ]
  },
  {
   "cell_type": "code",
   "execution_count": 34,
   "id": "4645034a",
   "metadata": {},
   "outputs": [
    {
     "name": "stdout",
     "output_type": "stream",
     "text": [
      "   A\\tB\n",
      "0  1\\t2\n",
      "1  4\\t3\n",
      "2  4\\t2\n"
     ]
    }
   ],
   "source": [
    "data1=pd.read_csv(\"C:\\\\Users\\\\Acer\\\\Documents\\\\pandas\\\\data.txt\")\n",
    "print(data1)"
   ]
  },
  {
   "cell_type": "code",
   "execution_count": 35,
   "id": "17b9af4c",
   "metadata": {},
   "outputs": [
    {
     "name": "stdout",
     "output_type": "stream",
     "text": [
      "   A  B\n",
      "0  1  2\n",
      "1  4  3\n",
      "2  4  2\n"
     ]
    }
   ],
   "source": [
    "data2=pd.read_csv(\"C:\\\\Users\\\\Acer\\\\Documents\\\\pandas\\\\data.txt\", delimiter=\"\\t\")\n",
    "print(data2)"
   ]
  },
  {
   "cell_type": "markdown",
   "id": "8740e35b",
   "metadata": {},
   "source": [
    "## import .csv"
   ]
  },
  {
   "cell_type": "code",
   "execution_count": 36,
   "id": "59c268dd",
   "metadata": {},
   "outputs": [
    {
     "name": "stdout",
     "output_type": "stream",
     "text": [
      "   A\\tB\n",
      "0  1\\t2\n",
      "1  4\\t3\n",
      "2  4\\t2\n"
     ]
    }
   ],
   "source": [
    "data3=pd.read_csv(\"C:\\\\Users\\\\Acer\\\\Documents\\\\pandas\\\\data.txt\")\n",
    "print(data3)"
   ]
  },
  {
   "cell_type": "code",
   "execution_count": 37,
   "id": "a6bd8f1f",
   "metadata": {},
   "outputs": [
    {
     "name": "stdout",
     "output_type": "stream",
     "text": [
      "   A  B\n",
      "0  1  2\n",
      "1  4  3\n",
      "2  4  2\n"
     ]
    }
   ],
   "source": [
    "data4=pd.read_csv(\"C:\\\\Users\\\\Acer\\\\Documents\\\\pandas\\\\data.txt\", delimiter=\"\\s+\")\n",
    "print(data4)"
   ]
  },
  {
   "cell_type": "markdown",
   "id": "e99dbdd6",
   "metadata": {},
   "source": [
    "## import .xlsx"
   ]
  },
  {
   "cell_type": "code",
   "execution_count": 38,
   "id": "620d4dd8",
   "metadata": {},
   "outputs": [
    {
     "name": "stdout",
     "output_type": "stream",
     "text": [
      "   A  B\n",
      "0  1  2\n",
      "1  4  3\n",
      "2  4  2\n"
     ]
    }
   ],
   "source": [
    "data5=pd.read_excel('C:\\\\Users\\\\Acer\\\\Documents\\\\pandas\\\\data.xlsx')\n",
    "print(data5)"
   ]
  },
  {
   "cell_type": "markdown",
   "id": "cb603bbb",
   "metadata": {},
   "source": [
    "## import .xls"
   ]
  },
  {
   "cell_type": "code",
   "execution_count": 39,
   "id": "dc7c092c",
   "metadata": {},
   "outputs": [
    {
     "name": "stdout",
     "output_type": "stream",
     "text": [
      "   A  B\n",
      "0  1  2\n",
      "1  4  3\n",
      "2  4  2\n"
     ]
    }
   ],
   "source": [
    "data6=pd.read_excel('C:\\\\Users\\\\Acer\\\\Documents\\\\pandas\\\\data.xls')\n",
    "print(data6)"
   ]
  },
  {
   "cell_type": "markdown",
   "id": "9cbcdd20",
   "metadata": {},
   "source": [
    "## Melihat Tabel"
   ]
  },
  {
   "cell_type": "code",
   "execution_count": 40,
   "id": "f5d00292",
   "metadata": {},
   "outputs": [
    {
     "data": {
      "text/html": [
       "<div>\n",
       "<style scoped>\n",
       "    .dataframe tbody tr th:only-of-type {\n",
       "        vertical-align: middle;\n",
       "    }\n",
       "\n",
       "    .dataframe tbody tr th {\n",
       "        vertical-align: top;\n",
       "    }\n",
       "\n",
       "    .dataframe thead th {\n",
       "        text-align: right;\n",
       "    }\n",
       "</style>\n",
       "<table border=\"1\" class=\"dataframe\">\n",
       "  <thead>\n",
       "    <tr style=\"text-align: right;\">\n",
       "      <th></th>\n",
       "      <th>A</th>\n",
       "      <th>B</th>\n",
       "    </tr>\n",
       "  </thead>\n",
       "  <tbody>\n",
       "    <tr>\n",
       "      <th>0</th>\n",
       "      <td>1</td>\n",
       "      <td>2</td>\n",
       "    </tr>\n",
       "    <tr>\n",
       "      <th>1</th>\n",
       "      <td>4</td>\n",
       "      <td>3</td>\n",
       "    </tr>\n",
       "    <tr>\n",
       "      <th>2</th>\n",
       "      <td>4</td>\n",
       "      <td>2</td>\n",
       "    </tr>\n",
       "  </tbody>\n",
       "</table>\n",
       "</div>"
      ],
      "text/plain": [
       "   A  B\n",
       "0  1  2\n",
       "1  4  3\n",
       "2  4  2"
      ]
     },
     "execution_count": 40,
     "metadata": {},
     "output_type": "execute_result"
    }
   ],
   "source": [
    "#semua\n",
    "data2"
   ]
  },
  {
   "cell_type": "code",
   "execution_count": 41,
   "id": "ddb961f7",
   "metadata": {},
   "outputs": [
    {
     "data": {
      "text/html": [
       "<div>\n",
       "<style scoped>\n",
       "    .dataframe tbody tr th:only-of-type {\n",
       "        vertical-align: middle;\n",
       "    }\n",
       "\n",
       "    .dataframe tbody tr th {\n",
       "        vertical-align: top;\n",
       "    }\n",
       "\n",
       "    .dataframe thead th {\n",
       "        text-align: right;\n",
       "    }\n",
       "</style>\n",
       "<table border=\"1\" class=\"dataframe\">\n",
       "  <thead>\n",
       "    <tr style=\"text-align: right;\">\n",
       "      <th></th>\n",
       "      <th>A</th>\n",
       "      <th>B</th>\n",
       "    </tr>\n",
       "  </thead>\n",
       "  <tbody>\n",
       "    <tr>\n",
       "      <th>0</th>\n",
       "      <td>1</td>\n",
       "      <td>2</td>\n",
       "    </tr>\n",
       "    <tr>\n",
       "      <th>1</th>\n",
       "      <td>4</td>\n",
       "      <td>3</td>\n",
       "    </tr>\n",
       "    <tr>\n",
       "      <th>2</th>\n",
       "      <td>4</td>\n",
       "      <td>2</td>\n",
       "    </tr>\n",
       "  </tbody>\n",
       "</table>\n",
       "</div>"
      ],
      "text/plain": [
       "   A  B\n",
       "0  1  2\n",
       "1  4  3\n",
       "2  4  2"
      ]
     },
     "execution_count": 41,
     "metadata": {},
     "output_type": "execute_result"
    }
   ],
   "source": [
    "#sebagian yang diatas (karena datanya sedikit maka yang tampil semua, silahkan coba dengan data yang lebih banyak lagi sendiri)\n",
    "data2.head()"
   ]
  },
  {
   "cell_type": "markdown",
   "id": "0abab694",
   "metadata": {},
   "source": [
    "## Membuat DataFrame sendiri"
   ]
  },
  {
   "cell_type": "code",
   "execution_count": 42,
   "id": "a197b0db",
   "metadata": {},
   "outputs": [
    {
     "name": "stdout",
     "output_type": "stream",
     "text": [
      "Empty DataFrame\n",
      "Columns: []\n",
      "Index: []\n"
     ]
    }
   ],
   "source": [
    "df = pd.DataFrame()\n",
    "print(df)"
   ]
  },
  {
   "cell_type": "code",
   "execution_count": 43,
   "id": "b33ac6a0",
   "metadata": {},
   "outputs": [
    {
     "name": "stdout",
     "output_type": "stream",
     "text": [
      "   0\n",
      "0  1\n",
      "1  2\n",
      "2  3\n",
      "3  4\n",
      "4  5\n"
     ]
    }
   ],
   "source": [
    "data = [1,2,3,4,5]\n",
    "df1 = pd.DataFrame(data)\n",
    "print(df1)"
   ]
  },
  {
   "cell_type": "code",
   "execution_count": 44,
   "id": "d27e0f8a",
   "metadata": {},
   "outputs": [
    {
     "name": "stdout",
     "output_type": "stream",
     "text": [
      "       Nama  Usia\n",
      "0  Purwanto    32\n",
      "1   Purnomo    43\n",
      "2     Purwo    55\n"
     ]
    }
   ],
   "source": [
    "data = [['Purwanto',32],['Purnomo',43],['Purwo',55]]\n",
    "df2 = pd.DataFrame(data,columns=['Nama','Usia'])\n",
    "print(df2)"
   ]
  },
  {
   "cell_type": "code",
   "execution_count": 45,
   "id": "898eebcf",
   "metadata": {},
   "outputs": [],
   "source": [
    "import pandas as pd\n",
    "import numpy as np"
   ]
  },
  {
   "cell_type": "markdown",
   "id": "7fd3e275",
   "metadata": {},
   "source": [
    "## Memanggil data tertentu pada DataFrame"
   ]
  },
  {
   "cell_type": "code",
   "execution_count": 46,
   "id": "d503aad6",
   "metadata": {},
   "outputs": [
    {
     "name": "stdout",
     "output_type": "stream",
     "text": [
      "       Nama  Usia\n",
      "0  Purwanto    32\n",
      "1   Purnomo    43\n",
      "2     Purwo    55\n"
     ]
    }
   ],
   "source": [
    "data = [['Purwanto',32],['Purnomo',43],['Purwo',55]]\n",
    "df2 = pd.DataFrame(data,columns=['Nama','Usia'])\n",
    "print(df2)"
   ]
  },
  {
   "cell_type": "code",
   "execution_count": 47,
   "id": "acb731b2",
   "metadata": {},
   "outputs": [
    {
     "data": {
      "text/plain": [
       "0    Purwanto\n",
       "1     Purnomo\n",
       "2       Purwo\n",
       "Name: Nama, dtype: object"
      ]
     },
     "execution_count": 47,
     "metadata": {},
     "output_type": "execute_result"
    }
   ],
   "source": [
    "df2[\"Nama\"]"
   ]
  },
  {
   "cell_type": "code",
   "execution_count": 48,
   "id": "fee1d4bb",
   "metadata": {},
   "outputs": [
    {
     "data": {
      "text/plain": [
       "0    32\n",
       "1    43\n",
       "2    55\n",
       "Name: Usia, dtype: int64"
      ]
     },
     "execution_count": 48,
     "metadata": {},
     "output_type": "execute_result"
    }
   ],
   "source": [
    "df2[\"Usia\"]"
   ]
  },
  {
   "cell_type": "code",
   "execution_count": 49,
   "id": "fd9e1f03",
   "metadata": {},
   "outputs": [
    {
     "data": {
      "text/plain": [
       "'Purwanto'"
      ]
     },
     "execution_count": 49,
     "metadata": {},
     "output_type": "execute_result"
    }
   ],
   "source": [
    "df2[\"Nama\"][0]"
   ]
  },
  {
   "cell_type": "code",
   "execution_count": 50,
   "id": "29c0321d",
   "metadata": {},
   "outputs": [
    {
     "data": {
      "text/plain": [
       "'Purwanto'"
      ]
     },
     "execution_count": 50,
     "metadata": {},
     "output_type": "execute_result"
    }
   ],
   "source": [
    "df2.iloc[0][0]"
   ]
  },
  {
   "cell_type": "code",
   "execution_count": 51,
   "id": "e1aa9c8c",
   "metadata": {},
   "outputs": [
    {
     "data": {
      "text/plain": [
       "'Purwanto'"
      ]
     },
     "execution_count": 51,
     "metadata": {},
     "output_type": "execute_result"
    }
   ],
   "source": [
    "df2.loc[0][\"Nama\"]"
   ]
  },
  {
   "cell_type": "code",
   "execution_count": 52,
   "id": "e2ef8bdf",
   "metadata": {},
   "outputs": [
    {
     "data": {
      "text/plain": [
       "'Purwanto'"
      ]
     },
     "execution_count": 52,
     "metadata": {},
     "output_type": "execute_result"
    }
   ],
   "source": [
    "df2.at[0,\"Nama\"]"
   ]
  },
  {
   "cell_type": "code",
   "execution_count": 53,
   "id": "bf37d860",
   "metadata": {},
   "outputs": [
    {
     "data": {
      "text/plain": [
       "'Purwanto'"
      ]
     },
     "execution_count": 53,
     "metadata": {},
     "output_type": "execute_result"
    }
   ],
   "source": [
    "df2.iat[0,0]"
   ]
  },
  {
   "cell_type": "code",
   "execution_count": 54,
   "id": "a1ab8b04",
   "metadata": {},
   "outputs": [
    {
     "data": {
      "text/plain": [
       "Nama    Purwanto\n",
       "Usia          32\n",
       "Name: 0, dtype: object"
      ]
     },
     "execution_count": 54,
     "metadata": {},
     "output_type": "execute_result"
    }
   ],
   "source": [
    "df2.iloc[0]"
   ]
  },
  {
   "cell_type": "code",
   "execution_count": 55,
   "id": "f034b74a",
   "metadata": {},
   "outputs": [
    {
     "data": {
      "text/plain": [
       "0    Purwanto\n",
       "1     Purnomo\n",
       "2       Purwo\n",
       "Name: Nama, dtype: object"
      ]
     },
     "execution_count": 55,
     "metadata": {},
     "output_type": "execute_result"
    }
   ],
   "source": [
    "df2.loc[:,'Nama']"
   ]
  },
  {
   "cell_type": "markdown",
   "id": "a9cb1bde",
   "metadata": {},
   "source": [
    "## Set Index"
   ]
  },
  {
   "cell_type": "code",
   "execution_count": 56,
   "id": "e194fe1e",
   "metadata": {},
   "outputs": [
    {
     "data": {
      "text/html": [
       "<div>\n",
       "<style scoped>\n",
       "    .dataframe tbody tr th:only-of-type {\n",
       "        vertical-align: middle;\n",
       "    }\n",
       "\n",
       "    .dataframe tbody tr th {\n",
       "        vertical-align: top;\n",
       "    }\n",
       "\n",
       "    .dataframe thead th {\n",
       "        text-align: right;\n",
       "    }\n",
       "</style>\n",
       "<table border=\"1\" class=\"dataframe\">\n",
       "  <thead>\n",
       "    <tr style=\"text-align: right;\">\n",
       "      <th></th>\n",
       "      <th>Nama</th>\n",
       "      <th>Usia</th>\n",
       "    </tr>\n",
       "  </thead>\n",
       "  <tbody>\n",
       "    <tr>\n",
       "      <th>0</th>\n",
       "      <td>Purwanto</td>\n",
       "      <td>32</td>\n",
       "    </tr>\n",
       "    <tr>\n",
       "      <th>1</th>\n",
       "      <td>Purnomo</td>\n",
       "      <td>43</td>\n",
       "    </tr>\n",
       "    <tr>\n",
       "      <th>2</th>\n",
       "      <td>Purwo</td>\n",
       "      <td>55</td>\n",
       "    </tr>\n",
       "  </tbody>\n",
       "</table>\n",
       "</div>"
      ],
      "text/plain": [
       "       Nama  Usia\n",
       "0  Purwanto    32\n",
       "1   Purnomo    43\n",
       "2     Purwo    55"
      ]
     },
     "execution_count": 56,
     "metadata": {},
     "output_type": "execute_result"
    }
   ],
   "source": [
    "df3 = pd.DataFrame([['Purwanto',32],['Purnomo',43],['Purwo',55]],columns=['Nama','Usia'])\n",
    "df3"
   ]
  },
  {
   "cell_type": "code",
   "execution_count": 57,
   "id": "dd427757",
   "metadata": {},
   "outputs": [
    {
     "data": {
      "text/html": [
       "<div>\n",
       "<style scoped>\n",
       "    .dataframe tbody tr th:only-of-type {\n",
       "        vertical-align: middle;\n",
       "    }\n",
       "\n",
       "    .dataframe tbody tr th {\n",
       "        vertical-align: top;\n",
       "    }\n",
       "\n",
       "    .dataframe thead th {\n",
       "        text-align: right;\n",
       "    }\n",
       "</style>\n",
       "<table border=\"1\" class=\"dataframe\">\n",
       "  <thead>\n",
       "    <tr style=\"text-align: right;\">\n",
       "      <th></th>\n",
       "      <th>Usia</th>\n",
       "    </tr>\n",
       "    <tr>\n",
       "      <th>Nama</th>\n",
       "      <th></th>\n",
       "    </tr>\n",
       "  </thead>\n",
       "  <tbody>\n",
       "    <tr>\n",
       "      <th>Purwanto</th>\n",
       "      <td>32</td>\n",
       "    </tr>\n",
       "    <tr>\n",
       "      <th>Purnomo</th>\n",
       "      <td>43</td>\n",
       "    </tr>\n",
       "    <tr>\n",
       "      <th>Purwo</th>\n",
       "      <td>55</td>\n",
       "    </tr>\n",
       "  </tbody>\n",
       "</table>\n",
       "</div>"
      ],
      "text/plain": [
       "          Usia\n",
       "Nama          \n",
       "Purwanto    32\n",
       "Purnomo     43\n",
       "Purwo       55"
      ]
     },
     "execution_count": 57,
     "metadata": {},
     "output_type": "execute_result"
    }
   ],
   "source": [
    "df3.set_index(\"Nama\")"
   ]
  },
  {
   "cell_type": "markdown",
   "id": "a7af70eb",
   "metadata": {},
   "source": [
    "## Pemanggilan Baris"
   ]
  },
  {
   "cell_type": "code",
   "execution_count": 58,
   "id": "d1ffd61c",
   "metadata": {},
   "outputs": [
    {
     "data": {
      "text/html": [
       "<div>\n",
       "<style scoped>\n",
       "    .dataframe tbody tr th:only-of-type {\n",
       "        vertical-align: middle;\n",
       "    }\n",
       "\n",
       "    .dataframe tbody tr th {\n",
       "        vertical-align: top;\n",
       "    }\n",
       "\n",
       "    .dataframe thead th {\n",
       "        text-align: right;\n",
       "    }\n",
       "</style>\n",
       "<table border=\"1\" class=\"dataframe\">\n",
       "  <thead>\n",
       "    <tr style=\"text-align: right;\">\n",
       "      <th></th>\n",
       "      <th>48</th>\n",
       "      <th>49</th>\n",
       "      <th>50</th>\n",
       "    </tr>\n",
       "  </thead>\n",
       "  <tbody>\n",
       "    <tr>\n",
       "      <th>2</th>\n",
       "      <td>1</td>\n",
       "      <td>2</td>\n",
       "      <td>3</td>\n",
       "    </tr>\n",
       "    <tr>\n",
       "      <th>A</th>\n",
       "      <td>4</td>\n",
       "      <td>5</td>\n",
       "      <td>6</td>\n",
       "    </tr>\n",
       "    <tr>\n",
       "      <th>4</th>\n",
       "      <td>7</td>\n",
       "      <td>8</td>\n",
       "      <td>9</td>\n",
       "    </tr>\n",
       "  </tbody>\n",
       "</table>\n",
       "</div>"
      ],
      "text/plain": [
       "   48  49  50\n",
       "2   1   2   3\n",
       "A   4   5   6\n",
       "4   7   8   9"
      ]
     },
     "execution_count": 58,
     "metadata": {},
     "output_type": "execute_result"
    }
   ],
   "source": [
    "df4 = pd.DataFrame(data=np.array([[1, 2, 3], [4, 5, 6], [7, 8, 9]]), index= [2, 'A', 4], columns=[48, 49, 50])\n",
    "df4"
   ]
  },
  {
   "cell_type": "code",
   "execution_count": 59,
   "id": "45b9a077",
   "metadata": {},
   "outputs": [
    {
     "data": {
      "text/plain": [
       "48    1\n",
       "49    2\n",
       "50    3\n",
       "Name: 2, dtype: int32"
      ]
     },
     "execution_count": 59,
     "metadata": {},
     "output_type": "execute_result"
    }
   ],
   "source": [
    "df4.loc[2]"
   ]
  },
  {
   "cell_type": "code",
   "execution_count": 60,
   "id": "221c1e6f",
   "metadata": {},
   "outputs": [
    {
     "data": {
      "text/plain": [
       "48    7\n",
       "49    8\n",
       "50    9\n",
       "Name: 4, dtype: int32"
      ]
     },
     "execution_count": 60,
     "metadata": {},
     "output_type": "execute_result"
    }
   ],
   "source": [
    "df4.iloc[2]"
   ]
  },
  {
   "cell_type": "markdown",
   "id": "539c8fc9",
   "metadata": {},
   "source": [
    "## Menambah Kolom"
   ]
  },
  {
   "cell_type": "code",
   "execution_count": 61,
   "id": "b339330f",
   "metadata": {},
   "outputs": [
    {
     "data": {
      "text/html": [
       "<div>\n",
       "<style scoped>\n",
       "    .dataframe tbody tr th:only-of-type {\n",
       "        vertical-align: middle;\n",
       "    }\n",
       "\n",
       "    .dataframe tbody tr th {\n",
       "        vertical-align: top;\n",
       "    }\n",
       "\n",
       "    .dataframe thead th {\n",
       "        text-align: right;\n",
       "    }\n",
       "</style>\n",
       "<table border=\"1\" class=\"dataframe\">\n",
       "  <thead>\n",
       "    <tr style=\"text-align: right;\">\n",
       "      <th></th>\n",
       "      <th>Nama</th>\n",
       "      <th>Usia</th>\n",
       "      <th>Index</th>\n",
       "    </tr>\n",
       "  </thead>\n",
       "  <tbody>\n",
       "    <tr>\n",
       "      <th>0</th>\n",
       "      <td>Purwanto</td>\n",
       "      <td>32</td>\n",
       "      <td>0</td>\n",
       "    </tr>\n",
       "    <tr>\n",
       "      <th>1</th>\n",
       "      <td>Purnomo</td>\n",
       "      <td>43</td>\n",
       "      <td>1</td>\n",
       "    </tr>\n",
       "    <tr>\n",
       "      <th>2</th>\n",
       "      <td>Purwo</td>\n",
       "      <td>55</td>\n",
       "      <td>2</td>\n",
       "    </tr>\n",
       "  </tbody>\n",
       "</table>\n",
       "</div>"
      ],
      "text/plain": [
       "       Nama  Usia  Index\n",
       "0  Purwanto    32      0\n",
       "1   Purnomo    43      1\n",
       "2     Purwo    55      2"
      ]
     },
     "execution_count": 61,
     "metadata": {},
     "output_type": "execute_result"
    }
   ],
   "source": [
    "#Menambahkan index di kolom baru\n",
    "df5 = pd.DataFrame([['Purwanto',32],['Purnomo',43],['Purwo',55]],columns=['Nama','Usia'])\n",
    "df5[\"Index\"]=df5.index\n",
    "df5"
   ]
  },
  {
   "cell_type": "code",
   "execution_count": 62,
   "id": "e90f80b2",
   "metadata": {},
   "outputs": [
    {
     "data": {
      "text/html": [
       "<div>\n",
       "<style scoped>\n",
       "    .dataframe tbody tr th:only-of-type {\n",
       "        vertical-align: middle;\n",
       "    }\n",
       "\n",
       "    .dataframe tbody tr th {\n",
       "        vertical-align: top;\n",
       "    }\n",
       "\n",
       "    .dataframe thead th {\n",
       "        text-align: right;\n",
       "    }\n",
       "</style>\n",
       "<table border=\"1\" class=\"dataframe\">\n",
       "  <thead>\n",
       "    <tr style=\"text-align: right;\">\n",
       "      <th></th>\n",
       "      <th>Nama</th>\n",
       "      <th>Usia</th>\n",
       "      <th>Index</th>\n",
       "      <th>Gender</th>\n",
       "    </tr>\n",
       "  </thead>\n",
       "  <tbody>\n",
       "    <tr>\n",
       "      <th>0</th>\n",
       "      <td>Purwanto</td>\n",
       "      <td>32</td>\n",
       "      <td>0</td>\n",
       "      <td>L</td>\n",
       "    </tr>\n",
       "    <tr>\n",
       "      <th>1</th>\n",
       "      <td>Purnomo</td>\n",
       "      <td>43</td>\n",
       "      <td>1</td>\n",
       "      <td>L</td>\n",
       "    </tr>\n",
       "    <tr>\n",
       "      <th>2</th>\n",
       "      <td>Purwo</td>\n",
       "      <td>55</td>\n",
       "      <td>2</td>\n",
       "      <td>L</td>\n",
       "    </tr>\n",
       "  </tbody>\n",
       "</table>\n",
       "</div>"
      ],
      "text/plain": [
       "       Nama  Usia  Index Gender\n",
       "0  Purwanto    32      0      L\n",
       "1   Purnomo    43      1      L\n",
       "2     Purwo    55      2      L"
      ]
     },
     "execution_count": 62,
     "metadata": {},
     "output_type": "execute_result"
    }
   ],
   "source": [
    "#Menambahkan kolom dengan isian baru\n",
    "df5.loc[:, \"Gender\"] = pd.Series(['L','L','L'])\n",
    "df5"
   ]
  },
  {
   "cell_type": "markdown",
   "id": "268b7e67",
   "metadata": {},
   "source": [
    "## Melihat ukuran DataFrame "
   ]
  },
  {
   "cell_type": "code",
   "execution_count": 63,
   "id": "43779cce",
   "metadata": {},
   "outputs": [
    {
     "data": {
      "text/plain": [
       "3"
      ]
     },
     "execution_count": 63,
     "metadata": {},
     "output_type": "execute_result"
    }
   ],
   "source": [
    "#ukuran baris paling panjang\n",
    "len(df2)"
   ]
  },
  {
   "cell_type": "code",
   "execution_count": 64,
   "id": "03f165f6",
   "metadata": {},
   "outputs": [
    {
     "data": {
      "text/plain": [
       "3"
      ]
     },
     "execution_count": 64,
     "metadata": {},
     "output_type": "execute_result"
    }
   ],
   "source": [
    "#ukuran baris pada kolom tertentu\n",
    "len(df2[\"Nama\"])"
   ]
  },
  {
   "cell_type": "code",
   "execution_count": 65,
   "id": "8106cd18",
   "metadata": {},
   "outputs": [
    {
     "name": "stdout",
     "output_type": "stream",
     "text": [
      "(3, 2)\n"
     ]
    }
   ],
   "source": [
    "#ukuran baris, ukuran kolom dataframe\n",
    "print(df2.shape)"
   ]
  },
  {
   "cell_type": "markdown",
   "id": "75a3f398",
   "metadata": {},
   "source": [
    "## Menghapus"
   ]
  },
  {
   "cell_type": "code",
   "execution_count": 66,
   "id": "66ec473e",
   "metadata": {},
   "outputs": [
    {
     "data": {
      "text/html": [
       "<div>\n",
       "<style scoped>\n",
       "    .dataframe tbody tr th:only-of-type {\n",
       "        vertical-align: middle;\n",
       "    }\n",
       "\n",
       "    .dataframe tbody tr th {\n",
       "        vertical-align: top;\n",
       "    }\n",
       "\n",
       "    .dataframe thead th {\n",
       "        text-align: right;\n",
       "    }\n",
       "</style>\n",
       "<table border=\"1\" class=\"dataframe\">\n",
       "  <thead>\n",
       "    <tr style=\"text-align: right;\">\n",
       "      <th></th>\n",
       "      <th>Nama</th>\n",
       "      <th>Usia</th>\n",
       "    </tr>\n",
       "  </thead>\n",
       "  <tbody>\n",
       "    <tr>\n",
       "      <th>0</th>\n",
       "      <td>Purwanto</td>\n",
       "      <td>32</td>\n",
       "    </tr>\n",
       "    <tr>\n",
       "      <th>1</th>\n",
       "      <td>Purnomo</td>\n",
       "      <td>43</td>\n",
       "    </tr>\n",
       "    <tr>\n",
       "      <th>2</th>\n",
       "      <td>Purwo</td>\n",
       "      <td>55</td>\n",
       "    </tr>\n",
       "  </tbody>\n",
       "</table>\n",
       "</div>"
      ],
      "text/plain": [
       "       Nama  Usia\n",
       "0  Purwanto    32\n",
       "1   Purnomo    43\n",
       "2     Purwo    55"
      ]
     },
     "execution_count": 66,
     "metadata": {},
     "output_type": "execute_result"
    }
   ],
   "source": [
    "df6 = pd.DataFrame([['Purwanto',32],['Purnomo',43],['Purwo',55]],columns=['Nama','Usia'])\n",
    "df6"
   ]
  },
  {
   "cell_type": "code",
   "execution_count": 71,
   "id": "cc3479cf",
   "metadata": {},
   "outputs": [
    {
     "data": {
      "text/html": [
       "<div>\n",
       "<style scoped>\n",
       "    .dataframe tbody tr th:only-of-type {\n",
       "        vertical-align: middle;\n",
       "    }\n",
       "\n",
       "    .dataframe tbody tr th {\n",
       "        vertical-align: top;\n",
       "    }\n",
       "\n",
       "    .dataframe thead th {\n",
       "        text-align: right;\n",
       "    }\n",
       "</style>\n",
       "<table border=\"1\" class=\"dataframe\">\n",
       "  <thead>\n",
       "    <tr style=\"text-align: right;\">\n",
       "      <th></th>\n",
       "      <th>Usia</th>\n",
       "    </tr>\n",
       "  </thead>\n",
       "  <tbody>\n",
       "    <tr>\n",
       "      <th>1</th>\n",
       "      <td>43</td>\n",
       "    </tr>\n",
       "  </tbody>\n",
       "</table>\n",
       "</div>"
      ],
      "text/plain": [
       "   Usia\n",
       "1    43"
      ]
     },
     "execution_count": 71,
     "metadata": {},
     "output_type": "execute_result"
    }
   ],
   "source": [
    "#menghapus kolom\n",
    "del df6['Nama']\n",
    "df6"
   ]
  },
  {
   "cell_type": "code",
   "execution_count": 68,
   "id": "7eac9316",
   "metadata": {},
   "outputs": [
    {
     "data": {
      "text/html": [
       "<div>\n",
       "<style scoped>\n",
       "    .dataframe tbody tr th:only-of-type {\n",
       "        vertical-align: middle;\n",
       "    }\n",
       "\n",
       "    .dataframe tbody tr th {\n",
       "        vertical-align: top;\n",
       "    }\n",
       "\n",
       "    .dataframe thead th {\n",
       "        text-align: right;\n",
       "    }\n",
       "</style>\n",
       "<table border=\"1\" class=\"dataframe\">\n",
       "  <thead>\n",
       "    <tr style=\"text-align: right;\">\n",
       "      <th></th>\n",
       "      <th>Usia</th>\n",
       "    </tr>\n",
       "  </thead>\n",
       "  <tbody>\n",
       "    <tr>\n",
       "      <th>2</th>\n",
       "      <td>55</td>\n",
       "    </tr>\n",
       "  </tbody>\n",
       "</table>\n",
       "</div>"
      ],
      "text/plain": [
       "   Usia\n",
       "2    55"
      ]
     },
     "execution_count": 68,
     "metadata": {},
     "output_type": "execute_result"
    }
   ],
   "source": [
    "#Menghapus n baris di awal\n",
    "df6=df6[2:]\n",
    "df6"
   ]
  },
  {
   "cell_type": "code",
   "execution_count": 69,
   "id": "934681f7",
   "metadata": {},
   "outputs": [
    {
     "data": {
      "text/html": [
       "<div>\n",
       "<style scoped>\n",
       "    .dataframe tbody tr th:only-of-type {\n",
       "        vertical-align: middle;\n",
       "    }\n",
       "\n",
       "    .dataframe tbody tr th {\n",
       "        vertical-align: top;\n",
       "    }\n",
       "\n",
       "    .dataframe thead th {\n",
       "        text-align: right;\n",
       "    }\n",
       "</style>\n",
       "<table border=\"1\" class=\"dataframe\">\n",
       "  <thead>\n",
       "    <tr style=\"text-align: right;\">\n",
       "      <th></th>\n",
       "      <th>Nama</th>\n",
       "      <th>Usia</th>\n",
       "    </tr>\n",
       "  </thead>\n",
       "  <tbody>\n",
       "    <tr>\n",
       "      <th>0</th>\n",
       "      <td>Purwanto</td>\n",
       "      <td>32</td>\n",
       "    </tr>\n",
       "    <tr>\n",
       "      <th>1</th>\n",
       "      <td>Purnomo</td>\n",
       "      <td>43</td>\n",
       "    </tr>\n",
       "    <tr>\n",
       "      <th>2</th>\n",
       "      <td>Purwo</td>\n",
       "      <td>55</td>\n",
       "    </tr>\n",
       "  </tbody>\n",
       "</table>\n",
       "</div>"
      ],
      "text/plain": [
       "       Nama  Usia\n",
       "0  Purwanto    32\n",
       "1   Purnomo    43\n",
       "2     Purwo    55"
      ]
     },
     "execution_count": 69,
     "metadata": {},
     "output_type": "execute_result"
    }
   ],
   "source": [
    "df6 = pd.DataFrame([['Purwanto',32],['Purnomo',43],['Purwo',55]],columns=['Nama','Usia'])\n",
    "df6"
   ]
  },
  {
   "cell_type": "code",
   "execution_count": 70,
   "id": "bbf61ab7",
   "metadata": {},
   "outputs": [
    {
     "data": {
      "text/html": [
       "<div>\n",
       "<style scoped>\n",
       "    .dataframe tbody tr th:only-of-type {\n",
       "        vertical-align: middle;\n",
       "    }\n",
       "\n",
       "    .dataframe tbody tr th {\n",
       "        vertical-align: top;\n",
       "    }\n",
       "\n",
       "    .dataframe thead th {\n",
       "        text-align: right;\n",
       "    }\n",
       "</style>\n",
       "<table border=\"1\" class=\"dataframe\">\n",
       "  <thead>\n",
       "    <tr style=\"text-align: right;\">\n",
       "      <th></th>\n",
       "      <th>Nama</th>\n",
       "      <th>Usia</th>\n",
       "    </tr>\n",
       "  </thead>\n",
       "  <tbody>\n",
       "    <tr>\n",
       "      <th>1</th>\n",
       "      <td>Purnomo</td>\n",
       "      <td>43</td>\n",
       "    </tr>\n",
       "  </tbody>\n",
       "</table>\n",
       "</div>"
      ],
      "text/plain": [
       "      Nama  Usia\n",
       "1  Purnomo    43"
      ]
     },
     "execution_count": 70,
     "metadata": {},
     "output_type": "execute_result"
    }
   ],
   "source": [
    "#Menghapus baris tertentu\n",
    "df6=df6.drop(df6.index[[0,2]])\n",
    "df6"
   ]
  },
  {
   "cell_type": "markdown",
   "id": "0690371a",
   "metadata": {},
   "source": [
    "## Ekspor DataFrame"
   ]
  },
  {
   "cell_type": "code",
   "execution_count": 72,
   "id": "18ca2988",
   "metadata": {},
   "outputs": [
    {
     "name": "stdout",
     "output_type": "stream",
     "text": [
      "[[ 1 32]\n",
      " [ 2 43]\n",
      " [ 4 55]]\n"
     ]
    }
   ],
   "source": [
    "#import pandas dan numpy\n",
    "import pandas as pd\n",
    "import numpy as np\n",
    "#Misal kita punya suatu dataframe\n",
    "data = [[1,32],[2,43],[4,55]]\n",
    "df = pd.DataFrame(data,columns=['Nama','Usia'])\n",
    "#Convert ke numpy array\n",
    "databaru = df.to_numpy()\n",
    "print(databaru)\n",
    "#Convert ke txt\n",
    "df.to_csv(\"dataexport.txt\")\n",
    "#Convert ke csv\n",
    "df.to_csv(\"dataexport.csv\")\n",
    "#Convert ke xlsx\n",
    "writer = pd.ExcelWriter('dataexport.xlsx')\n",
    "df.to_excel(writer, 'DataFrame')\n",
    "writer.save()"
   ]
  },
  {
   "cell_type": "code",
   "execution_count": null,
   "id": "2ba3436b",
   "metadata": {},
   "outputs": [],
   "source": []
  }
 ],
 "metadata": {
  "kernelspec": {
   "display_name": "Python 3 (ipykernel)",
   "language": "python",
   "name": "python3"
  },
  "language_info": {
   "codemirror_mode": {
    "name": "ipython",
    "version": 3
   },
   "file_extension": ".py",
   "mimetype": "text/x-python",
   "name": "python",
   "nbconvert_exporter": "python",
   "pygments_lexer": "ipython3",
   "version": "3.9.7"
  }
 },
 "nbformat": 4,
 "nbformat_minor": 5
}
