{
 "cells": [
  {
   "cell_type": "markdown",
   "id": "02e77a88-fa66-401d-b493-5195e4d7fc09",
   "metadata": {},
   "source": [
    "# Tugas Praktikum Pemrogaman Komputer 1"
   ]
  },
  {
   "cell_type": "markdown",
   "id": "b3446479-6490-4d70-93a5-0cf1d9473c3c",
   "metadata": {},
   "source": [
    "Nama   : Zulfa Akfi Fikrina\n",
    "\n",
    "NIM    : 200601110118"
   ]
  },
  {
   "cell_type": "markdown",
   "id": "44aa43ec-568b-4277-b360-8a3acb6bae12",
   "metadata": {
    "tags": []
   },
   "source": [
    "## Tugas No. 1"
   ]
  },
  {
   "cell_type": "markdown",
   "id": "8ab29fb0-7b7a-46ae-9685-ec594c99794c",
   "metadata": {
    "tags": []
   },
   "source": [
    "### Buatlah program yang meminta masukan user sebuah bilangan bulat N dimana (N > 0). Program kemudian menampilkan penjumlahan N bilangan genap positif pertama (bilangan genap ≥ 0). Contoh:\n",
    "\n",
    "    • Jika user memasukkan N = 3, maka outputnya: 0 + 2 + 4 = 6\n",
    "    • Jika user memasukkan N = 5, maka outputnya: 0 + 2 + 4 + 6 + 8 = 20"
   ]
  },
  {
   "cell_type": "code",
   "execution_count": 2,
   "id": "37d366ca-1177-4697-97c0-80a3c756eddd",
   "metadata": {},
   "outputs": [
    {
     "name": "stdout",
     "output_type": "stream",
     "text": [
      "Menghitung Jumlah N Bilangan Genap Positif Pertama\n",
      "Masukkan Nilai N :3\n",
      "Masukkan Nilai N : 3\n",
      "Bilangan Genap Positif Ke - 1  : 0\n",
      "Bilangan Genap Positif Ke - 2  : 2\n",
      "Bilangan Genap Positif Ke - 3  : 4\n",
      "\n",
      "Jumlah bilangan genap positif dari 3 bilangan diatas adalah 6\n",
      "\n",
      "ingin coba lagi ? (Iya/tidak)\n",
      "Iya\n",
      "Masukkan Nilai N :5\n",
      "Masukkan Nilai N : 5\n",
      "Bilangan Genap Positif Ke - 1  : 0\n",
      "Bilangan Genap Positif Ke - 2  : 2\n",
      "Bilangan Genap Positif Ke - 3  : 4\n",
      "Bilangan Genap Positif Ke - 4  : 6\n",
      "Bilangan Genap Positif Ke - 5  : 8\n",
      "\n",
      "Jumlah bilangan genap positif dari 5 bilangan diatas adalah 20\n",
      "\n",
      "ingin coba lagi ? (Iya/tidak)\n",
      "tidak\n",
      "Terimakasih telah mencoba !\n"
     ]
    }
   ],
   "source": [
    "print('Menghitung Jumlah N Bilangan Genap Positif Pertama')\n",
    "\n",
    "def pengulangan():\n",
    "    N = int(input('Masukkan Nilai N :'))\n",
    "    print('Masukkan Nilai N :',N)\n",
    "    count = 0\n",
    "    sum = 0\n",
    "    for i in range (0,N*2,2):\n",
    "        if i % 2 == 0:\n",
    "            count = count + 1\n",
    "            sum = sum + i\n",
    "            print('Bilangan Genap Positif Ke -',count, ' :',i)\n",
    "    print()       \n",
    "    print('Jumlah bilangan genap positif dari',N,'bilangan diatas adalah',sum)\n",
    "    \n",
    "    print ('')\n",
    "    print ('ingin coba lagi ? (Iya/tidak)')\n",
    "    x=input()\n",
    "    if x=='Iya':\n",
    "        return pengulangan()\n",
    "    if x=='tidak':\n",
    "        print('Terimakasih telah mencoba !')\n",
    "        \n",
    "pengulangan()"
   ]
  },
  {
   "cell_type": "markdown",
   "id": "520c587d-d3d0-423f-8a12-8fb68f1acb73",
   "metadata": {},
   "source": [
    "## Tugas No.2"
   ]
  },
  {
   "cell_type": "markdown",
   "id": "f0a773c3-30ee-470f-a352-c474d9f80707",
   "metadata": {},
   "source": [
    "### Buatlah sebuah program yang meminta masukan user sebuah bilangan bulat N dimana (N > 0). Kemudian, program menampilkan penjumlahan N bilangan kuadrat pertama. Bilangan kuadrat adalah = 1, 4, 9, 16, 25, 36, ...., N2\n",
    "Contoh:\n",
    "    \n",
    "    • Jika user memasukkan N = 2, maka outputnya: 1 + 4 = 5\n",
    "    • Jika user memasukkan N = 3, maka outputnya: 1 + 4 + 9 = 14"
   ]
  },
  {
   "cell_type": "code",
   "execution_count": 4,
   "id": "0956b924-ed3e-4631-8d69-5150446d3fd1",
   "metadata": {},
   "outputs": [
    {
     "name": "stdout",
     "output_type": "stream",
     "text": [
      "Menghitung Jumlah N Bilangan Kuadrat Pertama\n",
      "Masukkan Nilai N :2\n",
      "Masukkan Nilai N : 2\n",
      "Bilangan Kuadrat Ke - 1  : 1\n",
      "Bilangan Kuadrat Ke - 2  : 4\n",
      "\n",
      "Jumlah bilangan Kuadrat dari 2 bilangan diatas adalah 5\n",
      "\n",
      "ingin coba lagi ? (Iya/tidak)\n",
      "Iya\n",
      "Masukkan Nilai N :3\n",
      "Masukkan Nilai N : 3\n",
      "Bilangan Kuadrat Ke - 1  : 1\n",
      "Bilangan Kuadrat Ke - 2  : 4\n",
      "Bilangan Kuadrat Ke - 3  : 9\n",
      "\n",
      "Jumlah bilangan Kuadrat dari 3 bilangan diatas adalah 14\n",
      "\n",
      "ingin coba lagi ? (Iya/tidak)\n",
      "tidak\n",
      "Terimakasih telah mencoba !\n"
     ]
    }
   ],
   "source": [
    "print('Menghitung Jumlah N Bilangan Kuadrat Pertama')\n",
    "\n",
    "def pengulangan():\n",
    "    N = int(input('Masukkan Nilai N :'))\n",
    "    print('Masukkan Nilai N :',N)\n",
    "    count = 0\n",
    "    sum = 0\n",
    "    for i in range(1,N+1):\n",
    "        if i > 0:\n",
    "            count = count + 1\n",
    "            sum = sum + i*i\n",
    "            print('Bilangan Kuadrat Ke -',count, ' :',i*i)\n",
    "    print()       \n",
    "    print('Jumlah bilangan Kuadrat dari',N,'bilangan diatas adalah',sum)\n",
    "    \n",
    "    print ('')\n",
    "    print ('ingin coba lagi ? (Iya/tidak)')\n",
    "    x=input()\n",
    "    if x=='Iya':\n",
    "        return pengulangan()\n",
    "    if x=='tidak':\n",
    "        print('Terimakasih telah mencoba !')\n",
    "        \n",
    "pengulangan()"
   ]
  },
  {
   "cell_type": "markdown",
   "id": "32129dc6-5cd1-443f-8b25-02047a5d690b",
   "metadata": {},
   "source": [
    "## Tugas No.3"
   ]
  },
  {
   "cell_type": "markdown",
   "id": "cef4df68-87c8-4f89-badd-4ff4d5085a53",
   "metadata": {},
   "source": [
    "### Buatlah sebuah program yang meminta masukan user sebuah bilangan bulat N dimana (N > 0). Program kemudian memeriksa setiap digit yang ada di angka tersebut, dan menampilkan berapa jumlah digit yang ganjil dari bilangan N tersebut.\n",
    "\n",
    "    • Jika user memasukkan N = 2345, jumlah digit yang ganjil = 2\n",
    "    • Jika user memasukkan N = 993312, jumlah digit yang ganjil = 5"
   ]
  },
  {
   "cell_type": "code",
   "execution_count": 7,
   "id": "8100d1f9-8545-4af0-ab53-fb6d04a99b25",
   "metadata": {},
   "outputs": [
    {
     "name": "stdout",
     "output_type": "stream",
     "text": [
      "Menampilkan Berapa Jumlah Digit yang Ganjil dari Bilangan N\n",
      "Masukkan Nilai N :2345\n",
      "Masukkan Nilai N : 2345\n",
      "\n",
      "Jumlah digit yang ganjil dari 2345 adalah 2\n",
      "\n",
      "ingin mencoba lagi ? (Iya/tidak)\n",
      "Iya\n",
      "Masukkan Nilai N :993312\n",
      "Masukkan Nilai N : 993312\n",
      "\n",
      "Jumlah digit yang ganjil dari 993312 adalah 5\n",
      "\n",
      "ingin mencoba lagi ? (Iya/tidak)\n",
      "tidak\n",
      "Terimakasih telah mencoba !\n"
     ]
    }
   ],
   "source": [
    "print('Menampilkan Berapa Jumlah Digit yang Ganjil dari Bilangan N')\n",
    "\n",
    "def pengulangan():\n",
    "    N = (input('Masukkan Nilai N :'))\n",
    "    print('Masukkan Nilai N :',N)\n",
    "    count = 0\n",
    "    Ganjil = ''\n",
    "    for i in N:\n",
    "        if i in '13579':\n",
    "            count += 1\n",
    "            Ganjil = Ganjil+i+''\n",
    "    print()\n",
    "    print('Jumlah digit yang ganjil dari',N,'adalah ' + str(count))\n",
    "    \n",
    "    print ('')\n",
    "    print ('ingin mencoba lagi ? (Iya/tidak)')\n",
    "    x=input()\n",
    "    if x=='Iya':\n",
    "        return pengulangan()\n",
    "    if x=='tidak':\n",
    "        print('Terimakasih telah mencoba !')\n",
    "        \n",
    "pengulangan()"
   ]
  },
  {
   "cell_type": "markdown",
   "id": "110e3a8d",
   "metadata": {},
   "source": [
    "## Tugas No. 4"
   ]
  },
  {
   "cell_type": "markdown",
   "id": "59209f99",
   "metadata": {},
   "source": [
    "## Cari bagaimana cara menampilkan judul (title) dari grafik"
   ]
  },
  {
   "cell_type": "code",
   "execution_count": 8,
   "id": "802976d6",
   "metadata": {},
   "outputs": [
    {
     "data": {
      "image/png": "[encoded data removed]",
      "text/plain": [
       "<Figure size 432x288 with 1 Axes>"
      ]
     },
     "metadata": {
      "needs_background": "light"
     },
     "output_type": "display_data"
    }
   ],
   "source": [
    "import numpy as np\n",
    "import matplotlib.pyplot as plt\n",
    "\n",
    "t = np.arange(0.0, 3.0, 0.01)\n",
    "s = np.sin(2.5 * np.pi * t)\n",
    "plt.plot(t, s)\n",
    "\n",
    "plt.xlabel('time (s)')\n",
    "plt.ylabel('voltage (V)')\n",
    "\n",
    "plt.title('Gelombang Sinus')\n",
    "plt.grid(True)\n",
    "\n",
    "plt.show()"
   ]
  },
  {
   "cell_type": "markdown",
   "id": "c75ffb6d",
   "metadata": {},
   "source": [
    "## Tugas No. 5"
   ]
  },
  {
   "cell_type": "markdown",
   "id": "206b552d",
   "metadata": {},
   "source": [
    "## Cari bagaimana cara memberikan label pada sumbu x dan sumbu y\n"
   ]
  },
  {
   "cell_type": "code",
   "execution_count": 9,
   "id": "207aee10",
   "metadata": {},
   "outputs": [
    {
     "data": {
      "image/png": "[encoded data removed]",
      "text/plain": [
       "<Figure size 432x288 with 1 Axes>"
      ]
     },
     "metadata": {
      "needs_background": "light"
     },
     "output_type": "display_data"
    }
   ],
   "source": [
    "import matplotlib.pyplot as plt\n",
    "import numpy as np\n",
    "\n",
    "plt.plot([1,2,3,4],[1,4,9,16])\n",
    "plt.title(\"First Plot\")\n",
    "plt.xlabel(\"X label\")\n",
    "plt.ylabel(\"Y label\")\n",
    "plt.show()"
   ]
  },
  {
   "cell_type": "markdown",
   "id": "059427ab",
   "metadata": {},
   "source": [
    "## Tugas No. 6"
   ]
  },
  {
   "cell_type": "markdown",
   "id": "c74c76f4",
   "metadata": {},
   "source": [
    "## Cari bagaimana cara menambahkan teks dalam grafik"
   ]
  },
  {
   "cell_type": "code",
   "execution_count": 10,
   "id": "18904f1d",
   "metadata": {},
   "outputs": [
    {
     "data": {
      "image/png": "[encoded data removed]",
      "text/plain": [
       "<Figure size 432x288 with 1 Axes>"
      ]
     },
     "metadata": {
      "needs_background": "light"
     },
     "output_type": "display_data"
    },
    {
     "data": {
      "text/plain": [
       "<Figure size 432x288 with 0 Axes>"
      ]
     },
     "metadata": {},
     "output_type": "display_data"
    }
   ],
   "source": [
    "import matplotlib.pyplot as plt\n",
    "fig = plt.figure()\n",
    "ax = fig.add_axes([0,0,1,1])\n",
    "\n",
    "MataKuliah = ['Sistem Dinamik', 'Struktur Aljabar', 'Analisis Kompleks', 'Analisis Riil']\n",
    "Nilai = [90,90,90,90]\n",
    "\n",
    "ax.bar(MataKuliah,Nilai)\n",
    "ax.set_xlabel('MataKuliah')\n",
    "ax.set_ylabel('Nilai')\n",
    "ax.set_title('Nilai Semester')\n",
    "\n",
    "plt.show()\n",
    "plt.savefig('foo.png')"
   ]
  },
  {
   "cell_type": "code",
   "execution_count": null,
   "id": "a362176e",
   "metadata": {},
   "outputs": [],
   "source": []
  }
 ],
 "metadata": {
  "kernelspec": {
   "display_name": "Python 3 (ipykernel)",
   "language": "python",
   "name": "python3"
  },
  "language_info": {
   "codemirror_mode": {
    "name": "ipython",
    "version": 3
   },
   "file_extension": ".py",
   "mimetype": "text/x-python",
   "name": "python",
   "nbconvert_exporter": "python",
   "pygments_lexer": "ipython3",
   "version": "3.9.7"
  }
 },
 "nbformat": 4,
 "nbformat_minor": 5
}
