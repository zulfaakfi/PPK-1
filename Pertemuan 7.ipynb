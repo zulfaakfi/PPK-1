{
 "cells": [
  {
   "cell_type": "markdown",
   "id": "9fde320f",
   "metadata": {},
   "source": [
    "## Nama: Zulfa Akfi Fikrina\n",
    "## NIM : 200601110118"
   ]
  },
  {
   "cell_type": "code",
   "execution_count": 1,
   "id": "d892f9ed",
   "metadata": {},
   "outputs": [],
   "source": [
    "from sympy import *\n",
    "x, t, z, nu = symbols('x t z nu')"
   ]
  },
  {
   "cell_type": "markdown",
   "id": "a9ec5792",
   "metadata": {},
   "source": [
    "## 1. tentukan turunan dari tan x 𝑒**x + cos x e**x"
   ]
  },
  {
   "cell_type": "code",
   "execution_count": 2,
   "id": "e1084931",
   "metadata": {},
   "outputs": [
    {
     "data": {
      "text/latex": [
       "$\\displaystyle \\left(\\tan^{2}{\\left(x \\right)} + 1\\right) e^{x} - e^{x} \\sin{\\left(x \\right)} + e^{x} \\cos{\\left(x \\right)} + e^{x} \\tan{\\left(x \\right)}$"
      ],
      "text/plain": [
       "(tan(x)**2 + 1)*exp(x) - exp(x)*sin(x) + exp(x)*cos(x) + exp(x)*tan(x)"
      ]
     },
     "execution_count": 2,
     "metadata": {},
     "output_type": "execute_result"
    }
   ],
   "source": [
    "diff(tan(x)*exp(x)+cos(x)*exp(x),x)"
   ]
  },
  {
   "cell_type": "markdown",
   "id": "6229db49",
   "metadata": {},
   "source": [
    "## 2. berapa nilai (a+b)\n",
    "## jika a = (2*x+4)**2\n",
    "##      b = x**4"
   ]
  },
  {
   "cell_type": "code",
   "execution_count": 3,
   "id": "8c0ac1dc",
   "metadata": {},
   "outputs": [
    {
     "data": {
      "text/latex": [
       "$\\displaystyle x^{4} + 4 \\left(x + 2\\right)^{2}$"
      ],
      "text/plain": [
       "x**4 + 4*(x + 2)**2"
      ]
     },
     "execution_count": 3,
     "metadata": {},
     "output_type": "execute_result"
    }
   ],
   "source": [
    "a = (2*x+4)**2\n",
    "b = x**4\n",
    "simplify(a + b)"
   ]
  },
  {
   "cell_type": "markdown",
   "id": "f87776d8",
   "metadata": {},
   "source": [
    "## 3.tentukan juga nilai dari (a+b)-c\n",
    "## dengan nilai c = (x**2+1)"
   ]
  },
  {
   "cell_type": "code",
   "execution_count": 4,
   "id": "cb314ab5",
   "metadata": {},
   "outputs": [
    {
     "data": {
      "text/latex": [
       "$\\displaystyle x^{4} - x^{2} + 4 \\left(x + 2\\right)^{2} - 1$"
      ],
      "text/plain": [
       "x**4 - x**2 + 4*(x + 2)**2 - 1"
      ]
     },
     "execution_count": 4,
     "metadata": {},
     "output_type": "execute_result"
    }
   ],
   "source": [
    "c = (x**2+1)\n",
    "simplify (a+b)-c"
   ]
  },
  {
   "cell_type": "markdown",
   "id": "d812c76b",
   "metadata": {},
   "source": [
    "## 4. tentukan limit dari x**2-5*+6/x**2-3*x+2"
   ]
  },
  {
   "cell_type": "code",
   "execution_count": 5,
   "id": "389a323b",
   "metadata": {},
   "outputs": [
    {
     "data": {
      "text/latex": [
       "$\\displaystyle - \\frac{15}{2}$"
      ],
      "text/plain": [
       "-15/2"
      ]
     },
     "execution_count": 5,
     "metadata": {},
     "output_type": "execute_result"
    }
   ],
   "source": [
    "limit(x**2-5*+6/x**2-3*x+2,x,2)"
   ]
  },
  {
   "cell_type": "markdown",
   "id": "b4188389",
   "metadata": {},
   "source": [
    "## 5.temukan matrix pada titik [5,6],[8,1]"
   ]
  },
  {
   "cell_type": "code",
   "execution_count": 7,
   "id": "1edbd67d",
   "metadata": {},
   "outputs": [
    {
     "data": {
      "text/plain": [
       "{2 - sqrt(57): 1, 2 + sqrt(57): 1}"
      ]
     },
     "execution_count": 7,
     "metadata": {},
     "output_type": "execute_result"
    }
   ],
   "source": [
    "Matrix([[5, 6], [8, -1]]).eigenvals()"
   ]
  },
  {
   "cell_type": "code",
   "execution_count": null,
   "id": "1479d8ae",
   "metadata": {},
   "outputs": [],
   "source": []
  }
 ],
 "metadata": {
  "kernelspec": {
   "display_name": "Python 3 (ipykernel)",
   "language": "python",
   "name": "python3"
  },
  "language_info": {
   "codemirror_mode": {
    "name": "ipython",
    "version": 3
   },
   "file_extension": ".py",
   "mimetype": "text/x-python",
   "name": "python",
   "nbconvert_exporter": "python",
   "pygments_lexer": "ipython3",
   "version": "3.9.7"
  }
 },
 "nbformat": 4,
 "nbformat_minor": 5
}
