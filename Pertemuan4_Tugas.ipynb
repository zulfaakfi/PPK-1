{
 "cells": [
  {
   "cell_type": "markdown",
   "id": "e7da538c",
   "metadata": {},
   "source": [
    "## No 1"
   ]
  },
  {
   "cell_type": "code",
   "execution_count": 1,
   "id": "09ae84b5",
   "metadata": {},
   "outputs": [],
   "source": [
    "Buatlah program untuk menginputkan dua buah bilangan bulat, kemudian mencetak salah satu bilangan yang nilainya terbesar!"
   ]
  },
  {
   "cell_type": "code",
   "execution_count": 4,
   "id": "a6de27d8",
   "metadata": {
    "scrolled": true
   },
   "outputs": [
    {
     "name": "stdout",
     "output_type": "stream",
     "text": [
      "Menentukan bilangan terbesar dari dua bilangan bulat\n",
      "Masukkan bilangan pertama: 7\n",
      "Masukkan bilangan kedua: 3\n",
      "7 terbesar\n",
      "\n",
      "====================================================\n",
      "             Anda Yakin??? (Iya atau Tidak)         \n",
      "====================================================\n",
      "Tidak\n",
      "Masukkan bilangan pertama: 7\n",
      "Masukkan bilangan kedua: 4\n",
      "7 terbesar\n",
      "\n",
      "====================================================\n",
      "             Anda Yakin??? (Iya atau Tidak)         \n",
      "====================================================\n",
      "Iya\n",
      "Thank you, Fighting\n"
     ]
    }
   ],
   "source": [
    "print ('Menentukan bilangan terbesar dari dua bilangan bulat')\n",
    "def pengulangan():\n",
    "    a=input('Masukkan bilangan pertama: ')\n",
    "    b=input('Masukkan bilangan kedua: ')\n",
    "    if a>b:\n",
    "        print (a, 'terbesar')\n",
    "    elif b>a:\n",
    "        print (b, 'terbesar')\n",
    "        \n",
    "    print ('')\n",
    "    print ('====================================================')\n",
    "    print ('             Anda Yakin??? (Iya atau Tidak)         ')\n",
    "    print ('====================================================')\n",
    "    x=input()\n",
    "    if x=='Tidak':\n",
    "        return pengulangan()\n",
    "    if x=='Iya':\n",
    "        print('Thank you, Fighting')\n",
    "        \n",
    "pengulangan()    "
   ]
  },
  {
   "cell_type": "markdown",
   "id": "3521b2cd",
   "metadata": {},
   "source": [
    "## No 2"
   ]
  },
  {
   "cell_type": "code",
   "execution_count": null,
   "id": "30e594e5",
   "metadata": {},
   "outputs": [],
   "source": [
    "Pada akhir semester seorang dosen menghitung nilai akhir dari mahasiswa yang terdiri dari nilai uas, uts, kuis, dan tugas. \n",
    "Nilai akhir didapatkan dari 40% nilai uas, 30% nilai uts, 10% nilai kuis, dan 20% nilai tugas. Jika nilai akhir dari mahasiswa \n",
    "di bawah 65 maka mahasiswa tersebut akan mendapatkan remidi. Buatlah program untuk membantu mengetahui mahasiswa yang \n",
    "mendapatkan remidi berdasarkan nilai akhir yang didapatkannya!"
   ]
  },
  {
   "cell_type": "code",
   "execution_count": 5,
   "id": "bf9b6f8f",
   "metadata": {},
   "outputs": [
    {
     "name": "stdout",
     "output_type": "stream",
     "text": [
      "Masukkan Nama Anda: Justin Bieber\n",
      "Masukkan NIM: 200601110118\n",
      "Masukkan Semester: 4\n",
      "Masukkan Mata Kuliah: Kalkulus\n",
      "Masukkan Nilai Tugas: 98\n",
      "Masukkan Nilai Kuis: 87\n",
      "Masukkan Nilai UTS: 75\n",
      "Masukkan Nilai UAS: 80\n",
      "=============HASIL PERHITUNGAN=============\n",
      "==============NILAI MAHASISWA==============\n",
      "Nama : Justin Bieber\n",
      "NIM : 200601110118\n",
      "Smester : 4\n",
      "Mata Kuliah : Kalkulus\n",
      "Nilai Tugas : 98.0\n",
      "Nilai Kuis : 87.0\n",
      "Nilai UTS : 75.0\n",
      "Nilai UAS : 80.0\n",
      "Nilai Akhir : 82.80000000000001\n",
      "====SELAMAT ANDA LULUS====\n",
      "\n",
      "====================================================\n",
      "   APAKAH INGIN MENCOBA LAGI??? (Ya atau Tidak)    \n",
      "====================================================\n",
      "Ya\n",
      "Masukkan Nama Anda: Hailey \n",
      "Masukkan NIM: 200601110111\n",
      "Masukkan Semester: 4\n",
      "Masukkan Mata Kuliah: Aljabar\n",
      "Masukkan Nilai Tugas: 55\n",
      "Masukkan Nilai Kuis: 40\n",
      "Masukkan Nilai UTS: 50\n",
      "Masukkan Nilai UAS: 35\n",
      "=============HASIL PERHITUNGAN=============\n",
      "==============NILAI MAHASISWA==============\n",
      "Nama : Hailey \n",
      "NIM : 200601110111\n",
      "Smester : 4\n",
      "Mata Kuliah : Aljabar\n",
      "Nilai Tugas : 55.0\n",
      "Nilai Kuis : 40.0\n",
      "Nilai UTS : 50.0\n",
      "Nilai UAS : 35.0\n",
      "Nilai Akhir : 44.0\n",
      "====MOHON MAAF, ANDA HARUS MENGIKUTI REMIDI====\n",
      "\n",
      "====================================================\n",
      "   APAKAH INGIN MENCOBA LAGI??? (Ya atau Tidak)    \n",
      "====================================================\n",
      "Tidak\n",
      "Terima Kasih:)\n"
     ]
    }
   ],
   "source": [
    "### print ('menghitung nilai akhir mahasiswa')\n",
    "\n",
    "\n",
    "def pengulangan():\n",
    "    nama=input('Masukkan Nama Anda: ')\n",
    "    nim=input('Masukkan NIM: ')\n",
    "    smt=input('Masukkan Semester: ')\n",
    "    matkul=input('Masukkan Mata Kuliah: ')\n",
    "    tugas=float(input('Masukkan Nilai Tugas: '))\n",
    "    kuis=float(input('Masukkan Nilai Kuis: '))\n",
    "    uts=float(input('Masukkan Nilai UTS: '))\n",
    "    uas=float(input('Masukkan Nilai UAS: '))\n",
    "\n",
    "    nilaiakhir=(tugas*0.2)+(kuis*0.1)+(uts*0.3)+(uas*0.4)\n",
    "\n",
    "    print('=============HASIL PERHITUNGAN=============')\n",
    "    print('==============NILAI MAHASISWA==============')\n",
    "    \n",
    "\n",
    "    print('Nama :' ,nama)\n",
    "    print('NIM :' ,nim)\n",
    "    print('Smester :' ,smt)\n",
    "    print('Mata Kuliah :' ,matkul)\n",
    "    print('Nilai Tugas :' ,tugas)\n",
    "    print('Nilai Kuis :' ,kuis)\n",
    "    print('Nilai UTS :' ,uts)\n",
    "    print('Nilai UAS :' ,uas)\n",
    "    print('Nilai Akhir :' ,nilaiakhir)\n",
    "\n",
    "    if nilaiakhir < 65:\n",
    "        print('====MOHON MAAF, ANDA HARUS MENGIKUTI REMIDI====')\n",
    "    else :\n",
    "        print('====SELAMAT ANDA LULUS====')\n",
    "        \n",
    "    print('')\n",
    "    print('====================================================')\n",
    "    print('   APAKAH INGIN MENCOBA LAGI??? (Ya atau Tidak)    ')\n",
    "    print('====================================================')\n",
    "    x=input()\n",
    "    if x=='Ya':\n",
    "        return pengulangan()\n",
    "    if x=='Tidak':\n",
    "        print('Terima Kasih:)')\n",
    "        \n",
    "pengulangan()"
   ]
  },
  {
   "cell_type": "markdown",
   "id": "262fcc3c",
   "metadata": {},
   "source": [
    "## No 3"
   ]
  },
  {
   "cell_type": "code",
   "execution_count": 2,
   "id": "a166c8df",
   "metadata": {},
   "outputs": [],
   "source": [
    "Buatlah program kalkulator sederhana menggunakan Python. User akan memasukkan dua buah bilangan riil dan satu buah operator \n",
    "aritmatika (+, -, *, atau /), kemudian program akan mengoperasikan dua bilangan tersebut dengan operator yang sesuai.\n",
    "Contoh tampilan program:"
   ]
  },
  {
   "cell_type": "code",
   "execution_count": null,
   "id": "a9f46808",
   "metadata": {},
   "outputs": [
    {
     "name": "stdout",
     "output_type": "stream",
     "text": [
      "Kalkulator Sederhana\n",
      "Pilih Operasi: \n",
      "1.Penjumlahan\n",
      "2.Pengurangan\n",
      "3.Perkalian\n",
      "4.Pembagian\n",
      "Masukkan pilihan(1/2/3/4): 1\n",
      "Masukkan bilangan pertama: 3\n",
      "Masukkan bilangan kedua: 5\n",
      "3.0 + 5.0 = 8.0\n",
      "\n",
      "====================================================\n",
      "             Coba Lagi??? (Iya atau Tidak)          \n",
      "====================================================\n"
     ]
    }
   ],
   "source": [
    " print('Kalkulator Sederhana')\n",
    "    \n",
    "def pengulangan():\n",
    "    #penjumlahan\n",
    "    def add(x,y):\n",
    "        return x+y\n",
    "    #pengurangan\n",
    "    def subtract(x,y):\n",
    "        return x-y\n",
    "    #perkalian\n",
    "    def multiply(x,y):\n",
    "        return x*y\n",
    "    #pembagian\n",
    "    def divide(x,y):\n",
    "        return x/y\n",
    "\n",
    "    print(\"Pilih Operasi: \")\n",
    "    print(\"1.Penjumlahan\")\n",
    "    print(\"2.Pengurangan\")\n",
    "    print(\"3.Perkalian\")\n",
    "    print(\"4.Pembagian\")\n",
    "\n",
    "    pilih=input(\"Masukkan pilihan(1/2/3/4): \")\n",
    "    a=float(input(\"Masukkan bilangan pertama: \"))\n",
    "    b=float(input(\"Masukkan bilangan kedua: \"))\n",
    "    if pilih == '1':\n",
    "       print(a,\"+\",b,\"=\", add(a,b))\n",
    "    elif pilih == '2':\n",
    "       print(a,\"-\",b,\"=\", subtract(a,b))\n",
    "    elif pilih == '3':\n",
    "       print(a,\"*\",b,\"=\", multiply(a,b))\n",
    "    elif pilih == '4':\n",
    "       print(a,\"/\",b,\"=\", divide(a,b))\n",
    "    else:\n",
    "       print(\"Input salah\")\n",
    "\n",
    "    print ('')\n",
    "    print ('====================================================')\n",
    "    print ('             Coba Lagi??? (Iya atau Tidak)          ')\n",
    "    print ('====================================================')\n",
    "    x=input()\n",
    "    if x=='Iya':\n",
    "        return pengulangan()\n",
    "    if x=='Tidak':\n",
    "        print('Thank You, GOOD LUCK!!!')\n",
    "        \n",
    "pengulangan()"
   ]
  },
  {
   "cell_type": "code",
   "execution_count": null,
   "id": "37d1ba4b",
   "metadata": {},
   "outputs": [],
   "source": []
  }
 ],
 "metadata": {
  "kernelspec": {
   "display_name": "Python 3 (ipykernel)",
   "language": "python",
   "name": "python3"
  },
  "language_info": {
   "codemirror_mode": {
    "name": "ipython",
    "version": 3
   },
   "file_extension": ".py",
   "mimetype": "text/x-python",
   "name": "python",
   "nbconvert_exporter": "python",
   "pygments_lexer": "ipython3",
   "version": "3.9.7"
  }
 },
 "nbformat": 4,
 "nbformat_minor": 5
}
